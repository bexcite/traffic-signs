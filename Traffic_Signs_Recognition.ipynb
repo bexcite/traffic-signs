{
 "cells": [
  {
   "cell_type": "markdown",
   "metadata": {},
   "source": [
    "# Self-Driving Car Engineer Nanodegree\n",
    "\n",
    "## Deep Learning\n",
    "\n",
    "## Project: Build a Traffic Sign Recognition Classifier\n",
    "\n",
    "In this notebook, a template is provided for you to implement your functionality in stages which is required to successfully complete this project. If additional code is required that cannot be included in the notebook, be sure that the Python code is successfully imported and included in your submission, if necessary. Sections that begin with **'Implementation'** in the header indicate where you should begin your implementation for your project. Note that some sections of implementation are optional, and will be marked with **'Optional'** in the header.\n",
    "\n",
    "In addition to implementing code, there will be questions that you must answer which relate to the project and your implementation. Each section where you will answer a question is preceded by a **'Question'** header. Carefully read each question and provide thorough answers in the following text boxes that begin with **'Answer:'**. Your project submission will be evaluated based on your answers to each of the questions and the implementation you provide.\n",
    "\n",
    ">**Note:** Code and Markdown cells can be executed using the **Shift + Enter** keyboard shortcut. In addition, Markdown cells can be edited by typically double-clicking the cell to enter edit mode."
   ]
  },
  {
   "cell_type": "markdown",
   "metadata": {},
   "source": [
    "---\n",
    "\n",
    "## Step 1: Dataset Exploration\n",
    "\n",
    "Visualize the German Traffic Signs Dataset. This is open ended, some suggestions include: plotting traffic signs images, plotting the count of each sign, etc. Be creative!\n",
    "\n",
    "\n",
    "The pickled data is a dictionary with 4 key/value pairs:\n",
    "\n",
    "- features -> the images pixel values, (width, height, channels)\n",
    "- labels -> the label of the traffic sign\n",
    "- sizes -> the original width and height of the image, (width, height)\n",
    "- coords -> coordinates of a bounding box around the sign in the image, (x1, y1, x2, y2). Based the original image (not the resized version)."
   ]
  },
  {
   "cell_type": "code",
   "execution_count": 1,
   "metadata": {
    "collapsed": false
   },
   "outputs": [],
   "source": [
    "import numpy as np\n",
    "import tensorflow as tf\n",
    "import cv2\n",
    "import matplotlib.pyplot as plt\n",
    "import time\n",
    "from tqdm import tnrange\n",
    "%matplotlib inline"
   ]
  },
  {
   "cell_type": "code",
   "execution_count": 2,
   "metadata": {
    "collapsed": true
   },
   "outputs": [],
   "source": [
    "# Load pickled data\n",
    "import pickle\n",
    "\n",
    "# TODO: fill this in based on where you saved the training and testing data\n",
    "training_file = '../../sdc/traffic-signs-data/train.p'\n",
    "testing_file = '../../sdc/traffic-signs-data/test.p'\n",
    "\n",
    "with open(training_file, mode='rb') as f:\n",
    "    train = pickle.load(f)\n",
    "with open(testing_file, mode='rb') as f:\n",
    "    test = pickle.load(f)\n",
    "    \n",
    "X_train, y_train = train['features'], train['labels']\n",
    "X_test, y_test = test['features'], test['labels']"
   ]
  },
  {
   "cell_type": "code",
   "execution_count": 3,
   "metadata": {
    "collapsed": false
   },
   "outputs": [
    {
     "name": "stdout",
     "output_type": "stream",
     "text": [
      "X_train.shape = (39209, 32, 32, 3)\n",
      "y_train.shape = (39209,)\n",
      "X_test.shape = (12630, 32, 32, 3)\n",
      "y_test.shape = (12630,)\n",
      "image shape =  (32, 32, 3)\n"
     ]
    },
    {
     "data": {
      "text/plain": [
       "43"
      ]
     },
     "execution_count": 3,
     "metadata": {},
     "output_type": "execute_result"
    }
   ],
   "source": [
    "print('X_train.shape =', X_train.shape)\n",
    "print('y_train.shape =', y_train.shape)\n",
    "print('X_test.shape =', X_test.shape)\n",
    "print('y_test.shape =', y_test.shape)\n",
    "print('image shape = ', X_train[0].shape)\n",
    "np.max(y_train)+1\n"
   ]
  },
  {
   "cell_type": "code",
   "execution_count": 4,
   "metadata": {
    "collapsed": false
   },
   "outputs": [
    {
     "name": "stdout",
     "output_type": "stream",
     "text": [
      "Number of training examples = 39209\n",
      "Number of testing examples = 12630\n",
      "Image data shape = (32, 32, 3)\n",
      "Number of classes = 43\n"
     ]
    }
   ],
   "source": [
    "### To start off let's do a basic data summary.\n",
    "\n",
    "# TODO: number of training examples\n",
    "n_train = X_train.shape[0]\n",
    "\n",
    "# TODO: number of testing examples\n",
    "n_test = X_test.shape[0]\n",
    "\n",
    "# TODO: what's the shape of an image?\n",
    "image_shape = X_train[0].shape\n",
    "\n",
    "# TODO: how many classes are in the dataset\n",
    "n_classes = np.max(y_train) + 1\n",
    "\n",
    "print(\"Number of training examples =\", n_train)\n",
    "print(\"Number of testing examples =\", n_test)\n",
    "print(\"Image data shape =\", image_shape)\n",
    "print(\"Number of classes =\", n_classes)"
   ]
  },
  {
   "cell_type": "code",
   "execution_count": 5,
   "metadata": {
    "collapsed": false
   },
   "outputs": [],
   "source": [
    "### Data exploration visualization goes here.\n",
    "### Feel free to use as many code cells as needed.\n",
    "\n",
    "\n",
    "\n",
    "# Show all classes\n",
    "# num_line = 9\n",
    "# num_imgs = 3\n",
    "# for c in range(n_classes):\n",
    "#     if c * num_imgs % num_line == 0:\n",
    "#         plt.figure((c * num_imgs) // num_line, figsize=(18, 2))\n",
    "#     s = X_train[y_train == c]\n",
    "#     indices = np.random.randint(0, len(s), num_imgs)\n",
    "\n",
    "#     for n, idx in enumerate(indices):\n",
    "#         plot_num = (c * num_imgs) % num_line + n + 1\n",
    "#         plt.subplot(1, num_line, plot_num)\n",
    "#         cur_axes = plt.gca()\n",
    "#         cur_axes.axes.get_xaxis().set_ticks([])\n",
    "#         cur_axes.axes.get_yaxis().set_ticks([])\n",
    "#         plt.imshow(s[idx])\n",
    "#         plt.title('Class %d' % c)\n",
    "\n",
    "        \n"
   ]
  },
  {
   "cell_type": "code",
   "execution_count": 6,
   "metadata": {
    "collapsed": false
   },
   "outputs": [
    {
     "data": {
      "image/png": "[encoded data removed]",
      "text/plain": [
       "<matplotlib.figure.Figure at 0x104844f28>"
      ]
     },
     "metadata": {},
     "output_type": "display_data"
    },
    {
     "data": {
      "image/png": "[encoded data removed]",
      "text/plain": [
       "<matplotlib.figure.Figure at 0x104844f98>"
      ]
     },
     "metadata": {},
     "output_type": "display_data"
    }
   ],
   "source": [
    "# Draw the classes distribution in X_train samples\n",
    "\n",
    "def show_classes_distribution(labels, title = None):\n",
    "    # Count classes samples\n",
    "    uniq_labels = sorted(set(labels.tolist()))\n",
    "    n_labels = len(uniq_labels)\n",
    "    class_counts = np.zeros([n_labels])\n",
    "    for c in uniq_labels:\n",
    "        class_counts[c] = np.sum(labels == c)\n",
    "    y_pos = np.arange(n_labels)\n",
    "    plt.figure(figsize=(18, 5))\n",
    "    plt.bar(uniq_labels, class_counts)\n",
    "    plt.xticks(y_pos)\n",
    "    plt.ylabel('Classes Counts')\n",
    "    if title: plt.title(title)\n",
    "    \n",
    "show_classes_distribution(y_train, title='Train Classes Distribution')\n",
    "show_classes_distribution(y_test, title='Test Classes Distribution')\n"
   ]
  },
  {
   "cell_type": "markdown",
   "metadata": {},
   "source": [
    "----\n",
    "\n",
    "## Step 2: Design and Test a Model Architecture\n",
    "\n",
    "Design and implement a deep learning model that learns to recognize traffic signs. Train and test your model on the [German Traffic Sign Dataset](http://benchmark.ini.rub.de/?section=gtsrb&subsection=dataset).\n",
    "\n",
    "There are various aspects to consider when thinking about this problem:\n",
    "\n",
    "- Your model can be derived from a deep feedforward net or a deep convolutional network.\n",
    "- Play around preprocessing techniques (normalization, rgb to grayscale, etc)\n",
    "- Number of examples per label (some have more than others).\n",
    "- Generate fake data.\n",
    "\n",
    "Here is an example of a [published baseline model on this problem](http://yann.lecun.com/exdb/publis/pdf/sermanet-ijcnn-11.pdf). It's not required to be familiar with the approach used in the paper but, it's good practice to try to read papers like these."
   ]
  },
  {
   "cell_type": "markdown",
   "metadata": {},
   "source": [
    "### Implementation\n",
    "\n",
    "Use the code cell (or multiple code cells, if necessary) to implement the first step of your project. Once you have completed your implementation and are satisfied with the results, be sure to thoroughly answer the questions that follow."
   ]
  },
  {
   "cell_type": "code",
   "execution_count": 7,
   "metadata": {
    "collapsed": false
   },
   "outputs": [
    {
     "data": {
      "text/plain": [
       "\"\\nX_train_gray = data_to_grayscale(X_train)\\n\\n# Show random images from X_train_gray\\nn_samples = 12\\nn_samples_idx = np.random.randint(0, len(X_train_gray), n_samples)\\ngray_samples = X_train_gray[n_samples_idx]\\nplt.figure(figsize=(18, 5))\\nfor n, img in enumerate(gray_samples):\\n    plt.subplot(1, n_samples, n + 1)\\n    cur_axes = plt.gca()\\n    cur_axes.axes.get_xaxis().set_ticks([])\\n    cur_axes.axes.get_yaxis().set_ticks([])\\n    plt.imshow(img, cmap='gray')\\n\""
      ]
     },
     "execution_count": 7,
     "metadata": {},
     "output_type": "execute_result"
    }
   ],
   "source": [
    "### Preprocess the data here.\n",
    "### Feel free to use as many code cells as needed.\n",
    "\n",
    "def grayscale(img):\n",
    "    \"\"\"Applies the Grayscale transform\n",
    "    This will return an image with only one color channel\n",
    "    but NOTE: to see the returned image as grayscale\n",
    "    you should call plt.imshow(gray, cmap='gray')\"\"\"\n",
    "    return cv2.cvtColor(img, cv2.COLOR_BGR2GRAY)\n",
    "\n",
    "\n",
    "def data_to_grayscale(data):\n",
    "    # Transform to grayscale\n",
    "    shape = data.shape\n",
    "    data_gray = np.zeros((shape[0], shape[1], shape[2]))\n",
    "    for idx, image in enumerate(data):\n",
    "        data_gray[idx] = grayscale(image)\n",
    "    return data_gray\n",
    "    \n",
    "\n",
    "\"\"\"\n",
    "X_train_gray = data_to_grayscale(X_train)\n",
    "\n",
    "# Show random images from X_train_gray\n",
    "n_samples = 12\n",
    "n_samples_idx = np.random.randint(0, len(X_train_gray), n_samples)\n",
    "gray_samples = X_train_gray[n_samples_idx]\n",
    "plt.figure(figsize=(18, 5))\n",
    "for n, img in enumerate(gray_samples):\n",
    "    plt.subplot(1, n_samples, n + 1)\n",
    "    cur_axes = plt.gca()\n",
    "    cur_axes.axes.get_xaxis().set_ticks([])\n",
    "    cur_axes.axes.get_yaxis().set_ticks([])\n",
    "    plt.imshow(img, cmap='gray')\n",
    "\"\"\"\n"
   ]
  },
  {
   "cell_type": "markdown",
   "metadata": {},
   "source": [
    "### Question 1 \n",
    "\n",
    "_Describe the techniques used to preprocess the data._"
   ]
  },
  {
   "cell_type": "markdown",
   "metadata": {},
   "source": [
    "**Answer:**"
   ]
  },
  {
   "cell_type": "code",
   "execution_count": 8,
   "metadata": {
    "collapsed": false
   },
   "outputs": [
    {
     "data": {
      "image/png": "[encoded data removed]",
      "text/plain": [
       "<matplotlib.figure.Figure at 0x12a8d11d0>"
      ]
     },
     "metadata": {},
     "output_type": "display_data"
    },
    {
     "data": {
      "image/png": "[encoded data removed]",
      "text/plain": [
       "<matplotlib.figure.Figure at 0x12a8d1470>"
      ]
     },
     "metadata": {},
     "output_type": "display_data"
    },
    {
     "data": {
      "image/png": "[encoded data removed]",
      "text/plain": [
       "<matplotlib.figure.Figure at 0x12ba12b38>"
      ]
     },
     "metadata": {},
     "output_type": "display_data"
    }
   ],
   "source": [
    "### Generate data additional (if you want to!)\n",
    "### and split the data into training/validation/testing sets here.\n",
    "### Feel free to use as many code cells as needed.\n",
    "\n",
    "# Generate additional data hints\n",
    "# real-world variabilities such as viewpoint variations, lighting conditions\n",
    "# (saturations, low-contrast), motion-blur, occlusions, sun\n",
    "# glare, physical damage, colors fading, graffiti, stickers and\n",
    "# an input resolution as low as 15x15\n",
    "\n",
    "\n",
    "# Split Data into Train/Validation/Test\n",
    "\n",
    "# Combine train and test into one dataset\n",
    "X = np.concatenate((X_train, X_test), axis=0)\n",
    "y = np.concatenate((y_train, y_test), axis=0)\n",
    "\n",
    "# Shuffle it\n",
    "r_idx = np.random.permutation(len(X))\n",
    "X = X[r_idx]\n",
    "y = y[r_idx]\n",
    "\n",
    "# Train/Valid/Test distributions\n",
    "p_train = 0.6\n",
    "p_valid = 0.2\n",
    "p_test = 0.2\n",
    "\n",
    "# Sanity check\n",
    "assert p_train + p_valid + p_test == 1.0\n",
    "\n",
    "N = len(X)\n",
    "train_idx = int(N*p_train)\n",
    "valid_idx = int(N*(p_train+p_valid))\n",
    "X_train = X[:train_idx]\n",
    "y_train = y[:train_idx]\n",
    "X_valid = X[train_idx:valid_idx]\n",
    "y_valid = y[train_idx:valid_idx]\n",
    "X_test = X[valid_idx:]\n",
    "y_test = y[valid_idx:]\n",
    "                \n",
    "assert len(X_train) + len(X_valid) + len(X_test) == N\n",
    "assert len(y_train) + len(y_valid) + len(y_test) == N\n",
    "\n",
    "show_classes_distribution(y_train, 'Train')\n",
    "show_classes_distribution(y_valid, 'Validation')\n",
    "show_classes_distribution(y_test, 'Test')"
   ]
  },
  {
   "cell_type": "code",
   "execution_count": 9,
   "metadata": {
    "collapsed": false
   },
   "outputs": [],
   "source": [
    "# Normalize data\n",
    "def normalize(data):\n",
    "    pixel_depth = 255\n",
    "    return (data - pixel_depth / 2) / pixel_depth\n",
    "\n",
    "X_train_norm = normalize(X_train)\n",
    "X_valid_norm = normalize(X_valid)\n",
    "X_test_norm = normalize(X_test)\n",
    "\n",
    "# print(\"X_train[0] =\", X_valid[0])"
   ]
  },
  {
   "cell_type": "markdown",
   "metadata": {},
   "source": [
    "### Question 2\n",
    "\n",
    "_Describe how you set up the training, validation and testing data for your model. If you generated additional data, why?_"
   ]
  },
  {
   "cell_type": "markdown",
   "metadata": {},
   "source": [
    "**Answer:**"
   ]
  },
  {
   "cell_type": "code",
   "execution_count": 10,
   "metadata": {
    "collapsed": true
   },
   "outputs": [],
   "source": [
    "### Define your architecture here.\n",
    "### Feel free to use as many code cells as needed."
   ]
  },
  {
   "cell_type": "code",
   "execution_count": 11,
   "metadata": {
    "collapsed": false
   },
   "outputs": [],
   "source": [
    "# Config\n",
    "\n",
    "class SmallConfig(object):\n",
    "    \"\"\"Small config. \"\"\"\n",
    "    # init_scale = 0.1\n",
    "    image_size = 32\n",
    "    num_classes = 43\n",
    "    num_channels = 3\n",
    "    fc1_size = 512\n",
    "    learning_rate = 0.1\n",
    "    num_layers = 2\n",
    "    batch_size = 128 # 128\n",
    "    hidden_size = 200\n",
    "    max_epoch = 55 # 250 45\n",
    "    keep_prob = 0.5\n",
    "    lr = 0.01\n",
    "    lr_decay = 0.95\n",
    "    train_size = X_train.shape[0]\n"
   ]
  },
  {
   "cell_type": "code",
   "execution_count": 12,
   "metadata": {
    "collapsed": false,
    "scrolled": true
   },
   "outputs": [
    {
     "name": "stdout",
     "output_type": "stream",
     "text": [
      "X_train.shape = (31103, 32, 32, 3)\n",
      "y_train.shape = (31103,)\n",
      "X_valid.shape = (10368, 32, 32, 3)\n",
      "y_valid.shape = (10368,)\n",
      "X_test.shape = (10368, 32, 32, 3)\n",
      "y_test.shape = (10368,)\n",
      "Initialized new model params.\n",
      "Train new model ...\n",
      "19/242 loss = 40.506321\n",
      "39/242 loss = 35.293556\n",
      "59/242 loss = 31.906298\n",
      "79/242 loss = 29.198444\n",
      "99/242 loss = 26.927395\n",
      "119/242 loss = 24.979305\n",
      "139/242 loss = 23.286144\n",
      "159/242 loss = 21.806490\n",
      "179/242 loss = 20.506611\n",
      "199/242 loss = 19.356827\n",
      "219/242 loss = 18.337303\n",
      "239/242 loss = 17.427158\n",
      "keep_prob = 1.0\n",
      "Epoch 1/2: \n",
      "Loss: 17.341347\n",
      "Validation Loss = 7.001748\n",
      "LR = 0.01\n",
      "19/242 loss = 6.751036\n",
      "39/242 loss = 6.521821\n",
      "59/242 loss = 6.298047\n",
      "79/242 loss = 6.097754\n",
      "99/242 loss = 5.946068\n",
      "119/242 loss = 5.796957\n",
      "139/242 loss = 5.654236\n",
      "159/242 loss = 5.525361\n",
      "179/242 loss = 5.403727\n",
      "199/242 loss = 5.285117\n",
      "219/242 loss = 5.173323\n",
      "239/242 loss = 5.062604\n",
      "keep_prob = 1.0\n",
      "Epoch 2/2: \n",
      "Loss: 5.053864\n",
      "Validation Loss = 3.987569\n",
      "LR = 0.0095\n",
      "\n"
     ]
    },
    {
     "data": {
      "image/png": "[encoded data removed]",
      "text/plain": [
       "<matplotlib.figure.Figure at 0x12bb9b1d0>"
      ]
     },
     "metadata": {},
     "output_type": "display_data"
    },
    {
     "name": "stdout",
     "output_type": "stream",
     "text": [
      "Model params saved to  model_params_201611232306.ckpt\n",
      "Checking test accuracy:\n",
      "size = 10368\n",
      "sum_ones = 1245  of len = 10368\n",
      "Test Accuracy = 0.1201\n"
     ]
    },
    {
     "data": {
      "text/plain": [
       "'\\n    feed_dict = {\\n        model.input_placeholder: X_train_gray[0:model.batch_size],\\n        model.labels_placeholder: y_train[0:model.batch_size]\\n    }\\n    \\n    _, loss, prediction = session.run([model.train_op, model.loss, model.prediction], feed_dict=feed_dict)\\n    \\n    print(loss)\\n    print(prediction)\\n'"
      ]
     },
     "execution_count": 12,
     "metadata": {},
     "output_type": "execute_result"
    }
   ],
   "source": [
    "# Model Define\n",
    "\n",
    "class SignsModel(object):\n",
    "    \"\"\"Road Sign Classifier\"\"\"\n",
    "    \n",
    "    def __init__(self, config):\n",
    "        self.batch_size = config.batch_size\n",
    "        self.image_size = config.image_size\n",
    "        self.num_classes = config.num_classes\n",
    "        self.num_channels = config.num_channels\n",
    "        \n",
    "        self.train_size = config.train_size\n",
    "        \n",
    "        self.config = config\n",
    "        \n",
    "        self.add_placeholders()\n",
    "        \n",
    "        self.output_logits = self.add_model()\n",
    "        \n",
    "        self.loss = self.add_loss_op(self.output_logits)\n",
    "        \n",
    "        self.train_op = self.add_training_op(self.loss)\n",
    "        \n",
    "        self.prediction = self.add_prediction(self.output_logits)\n",
    "    \n",
    "    def add_placeholders_old(self):\n",
    "        \"\"\"Add Placeholders\"\"\"\n",
    "        self.input_placeholder = tf.placeholder(tf.float32,\n",
    "                                                shape=(self.batch_size, self.image_size, self.image_size))\n",
    "        self.labels_placeholder = tf.placeholder(tf.int64, shape=(self.batch_size,))        \n",
    "        \n",
    "        \n",
    "    def add_placeholders(self):\n",
    "        \"\"\"Add Placeholders\"\"\"\n",
    "        self.input_placeholder = tf.placeholder(tf.float32,\n",
    "                                                shape=(self.batch_size, self.image_size, self.image_size, self.num_channels),\n",
    "                                                name=\"Inputs\")\n",
    "        self.labels_placeholder = tf.placeholder(tf.int64, shape=(self.batch_size,), name=\"Labels\")\n",
    "        self.dropout_placeholder = tf.placeholder(tf.float32, name=\"Dropout\")\n",
    "\n",
    "        \n",
    "    def add_model_old(self):\n",
    "        \"\"\"Model Definition (it was first test model, not used now)\"\"\"\n",
    "        \n",
    "#         W = tf.get_variable(\"W\", [self.image_size * self.image_size, self.num_classes], tf.float32)\n",
    "#         b = tf.get_variable(\"b\", [self.num_classes], tf.float32)\n",
    "        self.params = {}\n",
    "\n",
    "        self.params[\"W\"] = W = tf.Variable(tf.truncated_normal([self.image_size * self.image_size, self.num_classes]), name=\"W\")\n",
    "        self.params[\"b\"] = b = tf.Variable(tf.truncated_normal([self.num_classes]), \"b\")\n",
    "        \n",
    "        x = tf.reshape(self.input_placeholder, (self.batch_size, -1))\n",
    "        output = tf.matmul(x, W) + b\n",
    "        return output\n",
    "    \n",
    "    def add_model(self):\n",
    "        \"\"\"Model Definition\"\"\"\n",
    "\n",
    "        fc1_size = self.config.fc1_size\n",
    "        \n",
    "        self.params = {}\n",
    "\n",
    "        \n",
    "        conv1_depth = 32\n",
    "        conv2_depth = 64\n",
    "        \n",
    "        # Define variables\n",
    "        self.params[\"conv1_weights\"] = conv1_weights = tf.Variable(\n",
    "            tf.truncated_normal([5, 5, self.num_channels, conv1_depth],\n",
    "                                stddev=0.1,\n",
    "                                dtype=tf.float32), name=\"conv1_weights\")\n",
    "        self.params[\"conv1_biases\"] = conv1_biases = tf.Variable(tf.zeros([conv1_depth], dtype=tf.float32),\n",
    "                                                                name=\"conv1_biases\")\n",
    "        \n",
    "        self.params[\"conv2_weights\"] = conv2_weights = tf.Variable(\n",
    "            tf.truncated_normal([5, 5, conv1_depth, conv2_depth],\n",
    "                                stddev=0.1,\n",
    "                                dtype=tf.float32), name=\"conv2_weights\")\n",
    "        self.params[\"conv2_biases\"] = conv2_biases = tf.Variable(tf.zeros([conv2_depth], dtype=tf.float32),\n",
    "                                                                name=\"conv2_biases\")\n",
    "\n",
    "        \n",
    "        self.params[\"W1\"] = W1 = tf.Variable(tf.truncated_normal([self.image_size // 4 * self.image_size // 4 * conv2_depth, self.num_classes]), name=\"W1\")\n",
    "        self.params[\"b1\"] = b1 = tf.Variable(tf.truncated_normal([self.num_classes]), \"b1\")\n",
    "        \n",
    "        # Define ops\n",
    "        \n",
    "        # Conv Layer 1\n",
    "        conv = tf.nn.conv2d(self.input_placeholder,\n",
    "                            conv1_weights,\n",
    "                            strides=[1, 1, 1, 1],\n",
    "                            padding='SAME')\n",
    "        relu = tf.nn.relu(tf.nn.bias_add(conv, conv1_biases))\n",
    "        pool = tf.nn.max_pool(relu,\n",
    "                              ksize=[1, 2, 2, 1],\n",
    "                              strides=[1, 2, 2, 1],\n",
    "                              padding='SAME')\n",
    "        \n",
    "        # Conv Layer 2\n",
    "        conv = tf.nn.conv2d(pool,\n",
    "                            conv2_weights,\n",
    "                            strides=[1, 1, 1, 1],\n",
    "                            padding='SAME')\n",
    "        relu = tf.nn.relu(tf.nn.bias_add(conv, conv2_biases))\n",
    "        pool = tf.nn.max_pool(relu,\n",
    "                              ksize=[1, 2, 2, 1],\n",
    "                              strides=[1, 2, 2, 1],\n",
    "                              padding='SAME')\n",
    "\n",
    "        \n",
    "        # Reshape for fully connected layers\n",
    "        pshape = pool.get_shape().as_list()\n",
    "        pool_line = tf.reshape(pool, [pshape[0], pshape[1] * pshape[2] * pshape[3]])\n",
    "        \n",
    "        # Used only during training by setting dropout param to config.keep_prob\n",
    "        pool_line = tf.nn.dropout(pool_line, self.dropout_placeholder)\n",
    "        \n",
    "        output = tf.matmul(pool_line, W1) + b1\n",
    "      \n",
    "        return output\n",
    "\n",
    "        \n",
    "    def add_loss_op(self, output):\n",
    "        \"\"\"Loss Op\"\"\"\n",
    "        loss = tf.reduce_mean(tf.nn.sparse_softmax_cross_entropy_with_logits(\n",
    "                output, self.labels_placeholder))\n",
    "\n",
    "        # Regularization\n",
    "        regularizers = tf.nn.l2_loss(self.params['W1']) + tf.nn.l2_loss(self.params['b1'])\n",
    "        loss += 5e-4 * regularizers\n",
    "\n",
    "        return loss\n",
    "        \n",
    "    def add_training_op(self, loss):\n",
    "        \"\"\"Add Training Op\"\"\"\n",
    "        self.global_step = tf.Variable(0, dtype=tf.float32, name=\"global_step\")\n",
    "        self.learning_rate = tf.train.exponential_decay(\n",
    "            self.config.lr,\n",
    "            self.global_step * self.config.batch_size,\n",
    "            self.train_size, # Train size\n",
    "            self.config.lr_decay,\n",
    "            staircase=True\n",
    "        )\n",
    "        optimizer = tf.train.AdamOptimizer(self.learning_rate)\n",
    "        train_op = optimizer.minimize(loss, global_step=self.global_step)\n",
    "        return train_op\n",
    "    \n",
    "    def add_prediction(self, output):\n",
    "        prediction = tf.nn.softmax(output)\n",
    "        return prediction\n",
    "    \n",
    "    def eval_predictions(self, session, data):\n",
    "        batch_size = self.config.batch_size\n",
    "        num_classes = self.config.num_classes\n",
    "        size = data.shape[0]\n",
    "        if size < batch_size:\n",
    "            raise ValueError(\"batch size should be smaller than dataset\")\n",
    "        predictions = np.ndarray(shape=(size, num_classes), dtype=np.float32)\n",
    "        print(\"size =\", size)\n",
    "        \n",
    "        for begin in range(0, size, batch_size):\n",
    "            end = begin + batch_size\n",
    "            if end <= size:\n",
    "                feed_dict = {\n",
    "                    self.input_placeholder: data[begin:end],\n",
    "                    self.dropout_placeholder: 1.0\n",
    "                }\n",
    "                predictions[begin:end, :] = session.run(self.prediction,\n",
    "                                                        feed_dict=feed_dict)\n",
    "            else:\n",
    "                feed_dict = {\n",
    "                    self.input_placeholder: data[-batch_size:],\n",
    "                    self.dropout_placeholder: 1.0\n",
    "                }\n",
    "                batch_predictions = session.run(self.prediction,\n",
    "                                               feed_dict=feed_dict)\n",
    "                predictions[begin:] = batch_predictions[begin - size]\n",
    "        return predictions\n",
    "    \n",
    "    def eval_accuracy(self, session, data, labels):\n",
    "        predictions = self.eval_predictions(session, data)\n",
    "        sum_ones = np.sum(np.argmax(predictions, axis=1) == labels)\n",
    "        print(\"sum_ones =\", sum_ones, \" of len =\", len(predictions))\n",
    "        accuracy = sum_ones / len(predictions)\n",
    "        return accuracy\n",
    "    \n",
    "    def run_epoch(self, session, data, labels, train_op = None, verbose = None):\n",
    "        config = self.config\n",
    "        batch_size = config.batch_size\n",
    "        keep_prob = config.keep_prob\n",
    "        num_steps = len(data) // batch_size\n",
    "        \n",
    "        if not train_op:\n",
    "            train_op = tf.no_op()\n",
    "            keep_prob = 1.0\n",
    "            print(\"keep_prob =\", keep_prob)\n",
    "            steps_range = tnrange(num_steps, desc=\"Eval\") # tqdm progress\n",
    "        else:\n",
    "            steps_range = tnrange(num_steps, desc=\"Steps\") # tqdm progress\n",
    "        \n",
    "        total_loss = []\n",
    "#         print(\"num_steps =\", num_steps)\n",
    "        for step in steps_range:\n",
    "            x = data[step*batch_size:(step+1)*batch_size]\n",
    "            y = labels[step*batch_size:(step+1)*batch_size]\n",
    "            \n",
    "#             print(\"x.shape =\", x.shape)\n",
    "#             print(\"y.shape =\", y.shape)\n",
    "            feed_dict = {\n",
    "                self.input_placeholder: x,\n",
    "                self.labels_placeholder: y,\n",
    "                self.dropout_placeholder: keep_prob\n",
    "            }\n",
    "            _, loss, prediction = session.run([train_op, self.loss, self.prediction], feed_dict=feed_dict)\n",
    "#             print(\"- conv =\", conv)\n",
    "#             print(\"- loss =\", loss)\n",
    "#             print(\"- logits =\", logits)\n",
    "#             print(\"- prediction =\", prediction)\n",
    "#             print(\"- prediction1 =\", prediction[:, np.argmax(prediction, axis=1)])\n",
    "#             print(\"- prediction max =\", np.argmax(prediction, axis=1))\n",
    "#             print(\"- y =\", y)\n",
    "            total_loss.append(loss)\n",
    "#             print(\"loss =\", loss)\n",
    "            if verbose is not None and (step + 1) % verbose == 0:\n",
    "                print(\"%d/%d loss = %f\" % (step, num_steps, np.mean(total_loss)))\n",
    "#             if step > 80: break\n",
    "            \n",
    "        return np.mean(total_loss)\n",
    "    \n",
    "    \n",
    "    def train_model(self, session, train_data, train_labels, valid_data, valid_labels):\n",
    "        max_epoch = self.config.max_epoch\n",
    "        \n",
    "        total_train_loss = []\n",
    "        total_valid_loss = []\n",
    "        epoch_valid_loss = 0\n",
    "        for epoch in tnrange(max_epoch, desc=\"Epochs\"):\n",
    "            \n",
    "            epoch_train_loss = self.run_epoch(session, train_data, train_labels, train_op = self.train_op, verbose = 20)\n",
    "            total_train_loss.append(epoch_train_loss)\n",
    "            \n",
    "            epoch_valid_loss = self.run_epoch(session, valid_data, valid_labels)\n",
    "            total_valid_loss.append(epoch_valid_loss)\n",
    "            \n",
    "            if epoch % 1 == 0 or epoch + 1 == max_epoch:\n",
    "                print(\"Epoch %d/%d: \" % (epoch + 1, max_epoch))\n",
    "                print(\"Loss: %f\" % epoch_train_loss)\n",
    "                print(\"Validation Loss = %f\" % (epoch_valid_loss))\n",
    "                lr = session.run(self.learning_rate)\n",
    "                print(\"LR =\", lr)\n",
    "\n",
    "                \n",
    "        x_lab = np.arange(max_epoch)\n",
    "        \n",
    "        fig, ax = plt.subplots()\n",
    "        ax.plot(x_lab, total_train_loss, '', label='Train Loss')\n",
    "        ax.plot(x_lab, total_valid_loss, '', label='Valid Loss')\n",
    "        ax.legend(loc='upper right')\n",
    "        ax.set_title(\"Loss over Epochs\")\n",
    "        plt.show()\n",
    "        \n",
    "            \n",
    "        return epoch_valid_loss\n",
    "            \n",
    "            \n",
    "\n",
    "            \n",
    "print(\"X_train.shape =\", X_train_norm.shape)\n",
    "print(\"y_train.shape =\", y_train.shape)\n",
    "print(\"X_valid.shape =\", X_valid_norm.shape)\n",
    "print(\"y_valid.shape =\", y_valid.shape)\n",
    "print(\"X_test.shape =\", X_test_norm.shape)\n",
    "print(\"y_test.shape =\", y_test.shape)\n",
    "            \n",
    "        \n",
    "config = SmallConfig()\n",
    "model = SignsModel(config)\n",
    "\n",
    "# To train model from scratch change this to False\n",
    "restore = False\n",
    "restore_file = 'model_params_201611232249.ckpt'\n",
    "\n",
    "# Create a session\n",
    "session = tf.Session()\n",
    "saver = tf.train.Saver(write_version=1)\n",
    "\n",
    "# Restore or Initialize params\n",
    "if restore and restore_file:\n",
    "    saver.restore(session, restore_file)\n",
    "    print(\"Model restored from \", restore_file)\n",
    "else:\n",
    "    # Init new\n",
    "    all_variables = tf.all_variables()\n",
    "    init = tf.initialize_variables(all_variables)\n",
    "    session.run(init)\n",
    "    \n",
    "    print(\"Initialized new model params.\")\n",
    "    print(\"Train new model ...\")\n",
    "    model.train_model(session, X_train_norm, y_train, X_valid_norm, y_valid)\n",
    "    \n",
    "    save_time = time.strftime(\"%Y%m%d%H%M\")\n",
    "    saved_path = saver.save(session, \"model_params_%s.ckpt\" % save_time)\n",
    "    print(\"Model params saved to \", saved_path)\n",
    "\n",
    "\n",
    "\n",
    "\n",
    "print(\"Checking test accuracy:\")\n",
    "accuracy = model.eval_accuracy(session, X_test_norm, y_test)\n",
    "print(\"Test Accuracy = %.4f\" % accuracy)\n",
    "\n",
    "# print(\"Checking valid accuracy:\")\n",
    "# accuracy = model.eval_accuracy(session, X_valid_norm, y_valid)\n",
    "# print(\"Valid accuracy = %.4f\" % accuracy)\n",
    "\n",
    "\n",
    "\n",
    "#     predictions = model.eval_predictions(session, X_test_gray)\n",
    "#     print(\"Predictions.shape =\", predictions.shape)\n",
    "#     accuracy = np.sum(np.argmax(predictions, axis=1) == y_test) / len(predictions)\n",
    "#     print(\"Accuracy = %.3f\" % accuracy)\n",
    "\n",
    "#     print(\"Predictions =\", np.argmax(predictions, axis=1))\n",
    "\n",
    "    \n",
    "\"\"\"\n",
    "    feed_dict = {\n",
    "        model.input_placeholder: X_train_gray[0:model.batch_size],\n",
    "        model.labels_placeholder: y_train[0:model.batch_size]\n",
    "    }\n",
    "    \n",
    "    _, loss, prediction = session.run([model.train_op, model.loss, model.prediction], feed_dict=feed_dict)\n",
    "    \n",
    "    print(loss)\n",
    "    print(prediction)\n",
    "\"\"\""
   ]
  },
  {
   "cell_type": "code",
   "execution_count": 13,
   "metadata": {
    "collapsed": false
   },
   "outputs": [
    {
     "name": "stdout",
     "output_type": "stream",
     "text": [
      "Checking test accuracy:\n",
      "size = 10368\n",
      "sum_ones = 1245  of len = 10368\n",
      "Test Accuracy = 0.1201\n",
      "Checking valid accuracy:\n",
      "size = 10368\n",
      "sum_ones = 1334  of len = 10368\n",
      "Valid Accuracy = 0.1287\n",
      "Checking train accuracy:\n",
      "size = 31103\n",
      "sum_ones = 3779  of len = 31103\n",
      "Train Accuracy = 0.1215\n"
     ]
    }
   ],
   "source": [
    "# t = X_train[0:1]\n",
    "# feed_dict = {\n",
    "#     model.input_placeholder: t,\n",
    "#     model.dropout_placeholder: 1.0\n",
    "# }\n",
    "# pred = session.run([model.prediction], feed_dict=feed_dict)\n",
    "# print(\"pred =\", pred)\n",
    "# print(\"pred1 =\", pred1)\n",
    "# print(\"pred max =\", np.argmax(pred1))\n",
    "# print(\"len(X_train =\", len(X_train))\n",
    "# print(\"len(X_valid) =\", len(X_valid))\n",
    "# print(\"len(X_test) =\", len(X_test))\n",
    "\n",
    "# accuracy = model.eval_accuracy(session, X_train[0:1], y_train[0:1])\n",
    "# print(\"Accuracy = %.3f\" % accuracy)\n",
    "\n",
    "# plt.imshow(t[0])\n",
    "\n",
    "\n",
    "# Test Accuracies\n",
    "print(\"Checking test accuracy:\")\n",
    "accuracy = model.eval_accuracy(session, X_test_norm, y_test)\n",
    "print(\"Test Accuracy = %.4f\" % accuracy)\n",
    "\n",
    "print(\"Checking valid accuracy:\")\n",
    "accuracy = model.eval_accuracy(session, X_valid_norm, y_valid)\n",
    "print(\"Valid Accuracy = %.4f\" % accuracy)\n",
    "\n",
    "print(\"Checking train accuracy:\")\n",
    "accuracy = model.eval_accuracy(session, X_train_norm, y_train)\n",
    "print(\"Train Accuracy = %.4f\" % accuracy)\n",
    "\n",
    "# Save Params to File\n",
    "# saver = tf.train.Saver(write_version=1)\n",
    "# save_time = time.strftime(\"%Y%m%d%H%M\")\n",
    "# saved_path = saver.save(session, \"model_params_%s.ckpt\" % save_time)\n",
    "# print(\"Model params saved to \", saved_path)\n",
    "\n"
   ]
  },
  {
   "cell_type": "code",
   "execution_count": 14,
   "metadata": {
    "collapsed": false
   },
   "outputs": [],
   "source": [
    "# Model Creation\n",
    "# a = [x for x in range(0, 50, 15)]\n",
    "# l = np.arange(4)\n",
    "# b = range(4)\n",
    "# print(a)\n",
    "# plt.plot(l, b, \"\", l*2, b)\n",
    "# plt.title(\"Loss 1\")\n",
    "\n",
    "# plt.plot([1,2,3,4], range(4))\n",
    "# plt.title(\"Loss 2\")\n",
    "\n",
    "# a = np.arange(9).reshape([3,3])\n",
    "# l = [2,1,1]\n",
    "# b = [2, 0, 0]\n",
    "# print(a[:, b])"
   ]
  },
  {
   "cell_type": "markdown",
   "metadata": {},
   "source": [
    "### Question 3\n",
    "\n",
    "_What does your final architecture look like? (Type of model, layers, sizes, connectivity, etc.)  For reference on how to build a deep neural network using TensorFlow, see [Deep Neural Network in TensorFlow\n",
    "](https://classroom.udacity.com/nanodegrees/nd013/parts/fbf77062-5703-404e-b60c-95b78b2f3f9e/modules/6df7ae49-c61c-4bb2-a23e-6527e69209ec/lessons/b516a270-8600-4f93-a0a3-20dfeabe5da6/concepts/83a3a2a2-a9bd-4b7b-95b0-eb924ab14432) from the classroom._\n"
   ]
  },
  {
   "cell_type": "markdown",
   "metadata": {},
   "source": [
    "**Answer:**"
   ]
  },
  {
   "cell_type": "code",
   "execution_count": 15,
   "metadata": {
    "collapsed": true
   },
   "outputs": [],
   "source": [
    "### Train your model here.\n",
    "### Feel free to use as many code cells as needed."
   ]
  },
  {
   "cell_type": "markdown",
   "metadata": {},
   "source": [
    "### Question 4\n",
    "\n",
    "_How did you train your model? (Type of optimizer, batch size, epochs, hyperparameters, etc.)_\n"
   ]
  },
  {
   "cell_type": "markdown",
   "metadata": {},
   "source": [
    "**Answer:**"
   ]
  },
  {
   "cell_type": "markdown",
   "metadata": {},
   "source": [
    "### Question 5\n",
    "\n",
    "\n",
    "_What approach did you take in coming up with a solution to this problem?_"
   ]
  },
  {
   "cell_type": "markdown",
   "metadata": {},
   "source": [
    "**Answer:**"
   ]
  },
  {
   "cell_type": "markdown",
   "metadata": {},
   "source": [
    "---\n",
    "\n",
    "## Step 3: Test a Model on New Images\n",
    "\n",
    "Take several pictures of traffic signs that you find on the web or around you (at least five), and run them through your classifier on your computer to produce example results. The classifier might not recognize some local signs but it could prove interesting nonetheless.\n",
    "\n",
    "You may find `signnames.csv` useful as it contains mappings from the class id (integer) to the actual sign name."
   ]
  },
  {
   "cell_type": "markdown",
   "metadata": {},
   "source": [
    "### Implementation\n",
    "\n",
    "Use the code cell (or multiple code cells, if necessary) to implement the first step of your project. Once you have completed your implementation and are satisfied with the results, be sure to thoroughly answer the questions that follow."
   ]
  },
  {
   "cell_type": "code",
   "execution_count": 16,
   "metadata": {
    "collapsed": true
   },
   "outputs": [],
   "source": [
    "### Load the images and plot them here.\n",
    "### Feel free to use as many code cells as needed."
   ]
  },
  {
   "cell_type": "markdown",
   "metadata": {},
   "source": [
    "### Question 6\n",
    "\n",
    "_Choose five candidate images of traffic signs and provide them in the report. Are there any particular qualities of the image(s) that might make classification difficult? It would be helpful to plot the images in the notebook._\n",
    "\n"
   ]
  },
  {
   "cell_type": "markdown",
   "metadata": {},
   "source": [
    "**Answer:**"
   ]
  },
  {
   "cell_type": "code",
   "execution_count": 17,
   "metadata": {
    "collapsed": true
   },
   "outputs": [],
   "source": [
    "### Run the predictions here.\n",
    "### Feel free to use as many code cells as needed."
   ]
  },
  {
   "cell_type": "markdown",
   "metadata": {},
   "source": [
    "### Question 7\n",
    "\n",
    "_Is your model able to perform equally well on captured pictures or a live camera stream when compared to testing on the dataset?_\n"
   ]
  },
  {
   "cell_type": "markdown",
   "metadata": {},
   "source": [
    "**Answer:**"
   ]
  },
  {
   "cell_type": "code",
   "execution_count": 18,
   "metadata": {
    "collapsed": true
   },
   "outputs": [],
   "source": [
    "### Visualize the softmax probabilities here.\n",
    "### Feel free to use as many code cells as needed."
   ]
  },
  {
   "cell_type": "markdown",
   "metadata": {},
   "source": [
    "### Question 8\n",
    "\n",
    "*Use the model's softmax probabilities to visualize the **certainty** of its predictions, [`tf.nn.top_k`](https://www.tensorflow.org/versions/r0.11/api_docs/python/nn.html#top_k) could prove helpful here. Which predictions is the model certain of? Uncertain? If the model was incorrect in its initial prediction, does the correct prediction appear in the top k? (k should be 5 at most)*\n"
   ]
  },
  {
   "cell_type": "markdown",
   "metadata": {},
   "source": [
    "**Answer:**"
   ]
  },
  {
   "cell_type": "markdown",
   "metadata": {},
   "source": [
    "### Question 9\n",
    "_If necessary, provide documentation for how an interface was built for your model to load and classify newly-acquired images._\n"
   ]
  },
  {
   "cell_type": "markdown",
   "metadata": {},
   "source": [
    "**Answer:**"
   ]
  },
  {
   "cell_type": "markdown",
   "metadata": {},
   "source": [
    "> **Note**: Once you have completed all of the code implementations and successfully answered each question above, you may finalize your work by exporting the iPython Notebook as an HTML document. You can do this by using the menu above and navigating to  \\n\",\n",
    "    \"**File -> Download as -> HTML (.html)**. Include the finished document along with this notebook as your submission."
   ]
  },
  {
   "cell_type": "code",
   "execution_count": null,
   "metadata": {
    "collapsed": true
   },
   "outputs": [],
   "source": []
  }
 ],
 "metadata": {
  "anaconda-cloud": {},
  "kernelspec": {
   "display_name": "Python [default]",
   "language": "python",
   "name": "python3"
  },
  "language_info": {
   "codemirror_mode": {
    "name": "ipython",
    "version": 3
   },
   "file_extension": ".py",
   "mimetype": "text/x-python",
   "name": "python",
   "nbconvert_exporter": "python",
   "pygments_lexer": "ipython3",
   "version": "3.5.2"
  },
  "widgets": {
   "state": {
    "1e96977eb19e4eeb9def6e4a8607d6ae": {
     "views": [
      {
       "cell_index": 19
      }
     ]
    },
    "1f447c7c3a484cacbf9ef2be87a38454": {
     "views": [
      {
       "cell_index": 19
      }
     ]
    },
    "1fb595affd7344968dbea6b1eba71290": {
     "views": [
      {
       "cell_index": 19
      }
     ]
    },
    "41cb9337c23f48999a3d04f5ad7f97fc": {
     "views": [
      {
       "cell_index": 19
      }
     ]
    },
    "42e8710003bc4653b0781693dbc23246": {
     "views": [
      {
       "cell_index": 19
      }
     ]
    },
    "52a871486ebf43858f1f15d035960f37": {
     "views": [
      {
       "cell_index": 19
      }
     ]
    },
    "6a3e57babc2443beabeb28bad5ed8560": {
     "views": [
      {
       "cell_index": 19
      }
     ]
    },
    "6bf895c0fa7c4334880ff7b4f72771a2": {
     "views": [
      {
       "cell_index": 19
      }
     ]
    },
    "76f2ab504b244e88a5d13c16c16c28c8": {
     "views": [
      {
       "cell_index": 19
      }
     ]
    },
    "bde0caf5754041f0870290739a976e45": {
     "views": [
      {
       "cell_index": 19
      }
     ]
    },
    "e75db57ae8a4430eb70d35ab3496bdce": {
     "views": [
      {
       "cell_index": 19
      }
     ]
    }
   },
   "version": "1.2.0"
  }
 },
 "nbformat": 4,
 "nbformat_minor": 1
}
