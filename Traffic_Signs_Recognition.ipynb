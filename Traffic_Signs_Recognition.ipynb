{
 "cells": [
  {
   "cell_type": "markdown",
   "metadata": {},
   "source": [
    "# Self-Driving Car Engineer Nanodegree\n",
    "\n",
    "## Deep Learning\n",
    "\n",
    "## Project: Build a Traffic Sign Recognition Classifier\n",
    "\n",
    "In this notebook, a template is provided for you to implement your functionality in stages which is required to successfully complete this project. If additional code is required that cannot be included in the notebook, be sure that the Python code is successfully imported and included in your submission, if necessary. Sections that begin with **'Implementation'** in the header indicate where you should begin your implementation for your project. Note that some sections of implementation are optional, and will be marked with **'Optional'** in the header.\n",
    "\n",
    "In addition to implementing code, there will be questions that you must answer which relate to the project and your implementation. Each section where you will answer a question is preceded by a **'Question'** header. Carefully read each question and provide thorough answers in the following text boxes that begin with **'Answer:'**. Your project submission will be evaluated based on your answers to each of the questions and the implementation you provide.\n",
    "\n",
    ">**Note:** Code and Markdown cells can be executed using the **Shift + Enter** keyboard shortcut. In addition, Markdown cells can be edited by typically double-clicking the cell to enter edit mode."
   ]
  },
  {
   "cell_type": "markdown",
   "metadata": {},
   "source": [
    "---\n",
    "\n",
    "## Step 1: Dataset Exploration\n",
    "\n",
    "Visualize the German Traffic Signs Dataset. This is open ended, some suggestions include: plotting traffic signs images, plotting the count of each sign, etc. Be creative!\n",
    "\n",
    "\n",
    "The pickled data is a dictionary with 4 key/value pairs:\n",
    "\n",
    "- features -> the images pixel values, (width, height, channels)\n",
    "- labels -> the label of the traffic sign\n",
    "- sizes -> the original width and height of the image, (width, height)\n",
    "- coords -> coordinates of a bounding box around the sign in the image, (x1, y1, x2, y2). Based the original image (not the resized version)."
   ]
  },
  {
   "cell_type": "code",
   "execution_count": 1,
   "metadata": {
    "collapsed": false
   },
   "outputs": [],
   "source": [
    "import numpy as np\n",
    "import tensorflow as tf\n",
    "import cv2\n",
    "import matplotlib.pyplot as plt\n",
    "%matplotlib inline"
   ]
  },
  {
   "cell_type": "code",
   "execution_count": 2,
   "metadata": {
    "collapsed": true
   },
   "outputs": [],
   "source": [
    "# Load pickled data\n",
    "import pickle\n",
    "\n",
    "# TODO: fill this in based on where you saved the training and testing data\n",
    "training_file = '../../sdc/traffic-signs-data/train.p'\n",
    "testing_file = '../../sdc/traffic-signs-data/test.p'\n",
    "\n",
    "with open(training_file, mode='rb') as f:\n",
    "    train = pickle.load(f)\n",
    "with open(testing_file, mode='rb') as f:\n",
    "    test = pickle.load(f)\n",
    "    \n",
    "X_train, y_train = train['features'], train['labels']\n",
    "X_test, y_test = test['features'], test['labels']"
   ]
  },
  {
   "cell_type": "code",
   "execution_count": 3,
   "metadata": {
    "collapsed": false
   },
   "outputs": [
    {
     "name": "stdout",
     "output_type": "stream",
     "text": [
      "X_train.shape = (39209, 32, 32, 3)\n",
      "y_train.shape = (39209,)\n",
      "X_test.shape = (12630, 32, 32, 3)\n",
      "y_test.shape = (12630,)\n",
      "image shape =  (32, 32, 3)\n"
     ]
    },
    {
     "data": {
      "text/plain": [
       "43"
      ]
     },
     "execution_count": 3,
     "metadata": {},
     "output_type": "execute_result"
    }
   ],
   "source": [
    "print('X_train.shape =', X_train.shape)\n",
    "print('y_train.shape =', y_train.shape)\n",
    "print('X_test.shape =', X_test.shape)\n",
    "print('y_test.shape =', y_test.shape)\n",
    "print('image shape = ', X_train[0].shape)\n",
    "np.max(y_train)+1\n"
   ]
  },
  {
   "cell_type": "code",
   "execution_count": 4,
   "metadata": {
    "collapsed": false
   },
   "outputs": [
    {
     "name": "stdout",
     "output_type": "stream",
     "text": [
      "Number of training examples = 39209\n",
      "Number of testing examples = 12630\n",
      "Image data shape = (32, 32, 3)\n",
      "Number of classes = 43\n"
     ]
    }
   ],
   "source": [
    "### To start off let's do a basic data summary.\n",
    "\n",
    "# TODO: number of training examples\n",
    "n_train = X_train.shape[0]\n",
    "\n",
    "# TODO: number of testing examples\n",
    "n_test = X_test.shape[0]\n",
    "\n",
    "# TODO: what's the shape of an image?\n",
    "image_shape = X_train[0].shape\n",
    "\n",
    "# TODO: how many classes are in the dataset\n",
    "n_classes = np.max(y_train) + 1\n",
    "\n",
    "print(\"Number of training examples =\", n_train)\n",
    "print(\"Number of testing examples =\", n_test)\n",
    "print(\"Image data shape =\", image_shape)\n",
    "print(\"Number of classes =\", n_classes)"
   ]
  },
  {
   "cell_type": "code",
   "execution_count": 5,
   "metadata": {
    "collapsed": false
   },
   "outputs": [
    {
     "data": {
      "text/plain": [
       "\"\\n# Show all classes\\nnum_line = 9\\nnum_imgs = 3\\nfor c in range(n_classes):\\n    if c * num_imgs % num_line == 0:\\n        plt.figure((c * num_imgs) // num_line, figsize=(18, 2))\\n    s = X_train[y_train == c]\\n    indices = np.random.randint(0, len(s), num_imgs)\\n\\n    for n, idx in enumerate(indices):\\n        plot_num = (c * num_imgs) % num_line + n + 1\\n        plt.subplot(1, num_line, plot_num)\\n        cur_axes = plt.gca()\\n        cur_axes.axes.get_xaxis().set_ticks([])\\n        cur_axes.axes.get_yaxis().set_ticks([])\\n        plt.imshow(s[idx])\\n        plt.title('Class %d' % c)\\n\""
      ]
     },
     "execution_count": 5,
     "metadata": {},
     "output_type": "execute_result"
    }
   ],
   "source": [
    "### Data exploration visualization goes here.\n",
    "### Feel free to use as many code cells as needed.\n",
    "\n",
    "\n",
    "'''\n",
    "# Show all classes\n",
    "num_line = 9\n",
    "num_imgs = 3\n",
    "for c in range(n_classes):\n",
    "    if c * num_imgs % num_line == 0:\n",
    "        plt.figure((c * num_imgs) // num_line, figsize=(18, 2))\n",
    "    s = X_train[y_train == c]\n",
    "    indices = np.random.randint(0, len(s), num_imgs)\n",
    "\n",
    "    for n, idx in enumerate(indices):\n",
    "        plot_num = (c * num_imgs) % num_line + n + 1\n",
    "        plt.subplot(1, num_line, plot_num)\n",
    "        cur_axes = plt.gca()\n",
    "        cur_axes.axes.get_xaxis().set_ticks([])\n",
    "        cur_axes.axes.get_yaxis().set_ticks([])\n",
    "        plt.imshow(s[idx])\n",
    "        plt.title('Class %d' % c)\n",
    "'''\n",
    "        \n"
   ]
  },
  {
   "cell_type": "code",
   "execution_count": 6,
   "metadata": {
    "collapsed": false
   },
   "outputs": [
    {
     "data": {
      "image/png": "[encoded data removed]",
      "text/plain": [
       "<matplotlib.figure.Figure at 0x115b22a58>"
      ]
     },
     "metadata": {},
     "output_type": "display_data"
    },
    {
     "data": {
      "image/png": "[encoded data removed]",
      "text/plain": [
       "<matplotlib.figure.Figure at 0x104811748>"
      ]
     },
     "metadata": {},
     "output_type": "display_data"
    }
   ],
   "source": [
    "# Draw the classes distribution in X_train samples\n",
    "\n",
    "def show_classes_distribution(labels, title = None):\n",
    "    # Count classes samples\n",
    "    uniq_labels = sorted(set(labels.tolist()))\n",
    "    n_labels = len(uniq_labels)\n",
    "    class_counts = np.zeros([n_labels])\n",
    "    for c in uniq_labels:\n",
    "        class_counts[c] = np.sum(labels == c)\n",
    "    y_pos = np.arange(n_labels)\n",
    "    plt.figure(figsize=(18, 5))\n",
    "    plt.bar(uniq_labels, class_counts)\n",
    "    plt.xticks(y_pos)\n",
    "    plt.ylabel('Classes Counts')\n",
    "    if title: plt.title(title)\n",
    "    \n",
    "show_classes_distribution(y_train, title='Train Classes Distribution')\n",
    "show_classes_distribution(y_test, title='Test Classes Distribution')\n"
   ]
  },
  {
   "cell_type": "markdown",
   "metadata": {},
   "source": [
    "----\n",
    "\n",
    "## Step 2: Design and Test a Model Architecture\n",
    "\n",
    "Design and implement a deep learning model that learns to recognize traffic signs. Train and test your model on the [German Traffic Sign Dataset](http://benchmark.ini.rub.de/?section=gtsrb&subsection=dataset).\n",
    "\n",
    "There are various aspects to consider when thinking about this problem:\n",
    "\n",
    "- Your model can be derived from a deep feedforward net or a deep convolutional network.\n",
    "- Play around preprocessing techniques (normalization, rgb to grayscale, etc)\n",
    "- Number of examples per label (some have more than others).\n",
    "- Generate fake data.\n",
    "\n",
    "Here is an example of a [published baseline model on this problem](http://yann.lecun.com/exdb/publis/pdf/sermanet-ijcnn-11.pdf). It's not required to be familiar with the approach used in the paper but, it's good practice to try to read papers like these."
   ]
  },
  {
   "cell_type": "markdown",
   "metadata": {},
   "source": [
    "### Implementation\n",
    "\n",
    "Use the code cell (or multiple code cells, if necessary) to implement the first step of your project. Once you have completed your implementation and are satisfied with the results, be sure to thoroughly answer the questions that follow."
   ]
  },
  {
   "cell_type": "code",
   "execution_count": 36,
   "metadata": {
    "collapsed": false
   },
   "outputs": [
    {
     "data": {
      "text/plain": [
       "\"\\nX_train_gray = data_to_grayscale(X_train)\\n\\n# Show random images from X_train_gray\\nn_samples = 12\\nn_samples_idx = np.random.randint(0, len(X_train_gray), n_samples)\\ngray_samples = X_train_gray[n_samples_idx]\\nplt.figure(figsize=(18, 5))\\nfor n, img in enumerate(gray_samples):\\n    plt.subplot(1, n_samples, n + 1)\\n    cur_axes = plt.gca()\\n    cur_axes.axes.get_xaxis().set_ticks([])\\n    cur_axes.axes.get_yaxis().set_ticks([])\\n    plt.imshow(img, cmap='gray')\\n\""
      ]
     },
     "execution_count": 36,
     "metadata": {},
     "output_type": "execute_result"
    }
   ],
   "source": [
    "### Preprocess the data here.\n",
    "### Feel free to use as many code cells as needed.\n",
    "\n",
    "def grayscale(img):\n",
    "    \"\"\"Applies the Grayscale transform\n",
    "    This will return an image with only one color channel\n",
    "    but NOTE: to see the returned image as grayscale\n",
    "    you should call plt.imshow(gray, cmap='gray')\"\"\"\n",
    "    return cv2.cvtColor(img, cv2.COLOR_BGR2GRAY)\n",
    "\n",
    "\n",
    "def data_to_grayscale(data):\n",
    "    # Transform to grayscale\n",
    "    shape = data.shape\n",
    "    data_gray = np.zeros((shape[0], shape[1], shape[2]))\n",
    "    for idx, image in enumerate(data):\n",
    "        data_gray[idx] = grayscale(image)\n",
    "    return data_gray\n",
    "    \n",
    "\n",
    "\"\"\"\n",
    "X_train_gray = data_to_grayscale(X_train)\n",
    "\n",
    "# Show random images from X_train_gray\n",
    "n_samples = 12\n",
    "n_samples_idx = np.random.randint(0, len(X_train_gray), n_samples)\n",
    "gray_samples = X_train_gray[n_samples_idx]\n",
    "plt.figure(figsize=(18, 5))\n",
    "for n, img in enumerate(gray_samples):\n",
    "    plt.subplot(1, n_samples, n + 1)\n",
    "    cur_axes = plt.gca()\n",
    "    cur_axes.axes.get_xaxis().set_ticks([])\n",
    "    cur_axes.axes.get_yaxis().set_ticks([])\n",
    "    plt.imshow(img, cmap='gray')\n",
    "\"\"\"\n"
   ]
  },
  {
   "cell_type": "markdown",
   "metadata": {},
   "source": [
    "### Question 1 \n",
    "\n",
    "_Describe the techniques used to preprocess the data._"
   ]
  },
  {
   "cell_type": "markdown",
   "metadata": {},
   "source": [
    "**Answer:**"
   ]
  },
  {
   "cell_type": "code",
   "execution_count": 8,
   "metadata": {
    "collapsed": false
   },
   "outputs": [
    {
     "data": {
      "image/png": "[encoded data removed]",
      "text/plain": [
       "<matplotlib.figure.Figure at 0x13f5766d8>"
      ]
     },
     "metadata": {},
     "output_type": "display_data"
    },
    {
     "data": {
      "image/png": "[encoded data removed]",
      "text/plain": [
       "<matplotlib.figure.Figure at 0x13f576978>"
      ]
     },
     "metadata": {},
     "output_type": "display_data"
    },
    {
     "data": {
      "image/png": "[encoded data removed]",
      "text/plain": [
       "<matplotlib.figure.Figure at 0x13f7fbb38>"
      ]
     },
     "metadata": {},
     "output_type": "display_data"
    }
   ],
   "source": [
    "### Generate data additional (if you want to!)\n",
    "### and split the data into training/validation/testing sets here.\n",
    "### Feel free to use as many code cells as needed.\n",
    "\n",
    "# Generate additional data hints\n",
    "# real-world variabilities such as viewpoint variations, lighting conditions\n",
    "# (saturations, low-contrast), motion-blur, occlusions, sun\n",
    "# glare, physical damage, colors fading, graffiti, stickers and\n",
    "# an input resolution as low as 15x15\n",
    "\n",
    "\n",
    "# Split Data into Train/Validation/Test\n",
    "\n",
    "# Combine train and test into one dataset\n",
    "X = np.concatenate((X_train, X_test), axis=0)\n",
    "y = np.concatenate((y_train, y_test), axis=0)\n",
    "\n",
    "# Shuffle it\n",
    "r_idx = np.random.permutation(len(X))\n",
    "X = X[r_idx]\n",
    "y = y[r_idx]\n",
    "\n",
    "# Train/Valid/Test distributions\n",
    "p_train = 0.6\n",
    "p_valid = 0.2\n",
    "p_test = 0.2\n",
    "\n",
    "# Sanity check\n",
    "assert p_train + p_valid + p_test == 1.0\n",
    "\n",
    "N = len(X)\n",
    "train_idx = int(N*p_train)\n",
    "valid_idx = int(N*(p_train+p_valid))\n",
    "X_train = X[:train_idx]\n",
    "y_train = y[:train_idx]\n",
    "X_valid = X[train_idx:valid_idx]\n",
    "y_valid = y[train_idx:valid_idx]\n",
    "X_test = X[valid_idx:]\n",
    "y_test = y[valid_idx:]\n",
    "                \n",
    "assert len(X_train) + len(X_valid) + len(X_test) == N\n",
    "assert len(y_train) + len(y_valid) + len(y_test) == N\n",
    "\n",
    "show_classes_distribution(y_train, 'Train')\n",
    "show_classes_distribution(y_valid, 'Validation')\n",
    "show_classes_distribution(y_test, 'Test')"
   ]
  },
  {
   "cell_type": "markdown",
   "metadata": {},
   "source": [
    "### Question 2\n",
    "\n",
    "_Describe how you set up the training, validation and testing data for your model. If you generated additional data, why?_"
   ]
  },
  {
   "cell_type": "markdown",
   "metadata": {},
   "source": [
    "**Answer:**"
   ]
  },
  {
   "cell_type": "code",
   "execution_count": 9,
   "metadata": {
    "collapsed": true
   },
   "outputs": [],
   "source": [
    "### Define your architecture here.\n",
    "### Feel free to use as many code cells as needed."
   ]
  },
  {
   "cell_type": "code",
   "execution_count": 123,
   "metadata": {
    "collapsed": false
   },
   "outputs": [],
   "source": [
    "# Config\n",
    "\n",
    "class SmallConfig(object):\n",
    "    \"\"\"Small config. \"\"\"\n",
    "    init_scale = 0.1\n",
    "    image_size = 32\n",
    "    num_classes = 43\n",
    "    learning_rate = 0.1\n",
    "    num_layers = 2\n",
    "    batch_size = 128 # 128\n",
    "    hidden_size = 200\n",
    "    max_epoch = 250\n",
    "    keep_prob = 1.0\n",
    "    lr = 0.01\n",
    "    lr_decay = 0.99\n",
    "    train_size = X_train.shape[0]\n"
   ]
  },
  {
   "cell_type": "code",
   "execution_count": 124,
   "metadata": {
    "collapsed": false,
    "scrolled": true
   },
   "outputs": [
    {
     "name": "stdout",
     "output_type": "stream",
     "text": [
      "Epoch 1/250: \n",
      "Loss: 1031.426025\n",
      "Validation Loss = 556.201843\n",
      "LR = 0.01\n",
      "Epoch 11/250: \n",
      "Loss: 102.821861\n",
      "Validation Loss = 137.496979\n",
      "LR = 0.00904382\n",
      "Epoch 21/250: \n",
      "Loss: 79.940750\n",
      "Validation Loss = 115.362427\n",
      "LR = 0.00817907\n",
      "Epoch 31/250: \n",
      "Loss: 63.445110\n",
      "Validation Loss = 105.455986\n",
      "LR = 0.00739701\n",
      "Epoch 41/250: \n",
      "Loss: 55.671238\n",
      "Validation Loss = 106.557495\n",
      "LR = 0.00668972\n",
      "Epoch 51/250: \n",
      "Loss: 45.863186\n",
      "Validation Loss = 96.211761\n",
      "LR = 0.00605006\n",
      "Epoch 61/250: \n",
      "Loss: 39.441738\n",
      "Validation Loss = 114.995140\n",
      "LR = 0.00547157\n",
      "Epoch 71/250: \n",
      "Loss: 38.545509\n",
      "Validation Loss = 105.163818\n",
      "LR = 0.00494839\n",
      "Epoch 81/250: \n",
      "Loss: 32.524414\n",
      "Validation Loss = 77.364731\n",
      "LR = 0.00447524\n",
      "Epoch 91/250: \n",
      "Loss: 31.035950\n",
      "Validation Loss = 80.415718\n",
      "LR = 0.00404732\n",
      "Epoch 101/250: \n",
      "Loss: 28.602797\n",
      "Validation Loss = 88.041084\n",
      "LR = 0.00366033\n",
      "Epoch 111/250: \n",
      "Loss: 28.451094\n",
      "Validation Loss = 82.959023\n",
      "LR = 0.00331033\n",
      "Epoch 121/250: \n",
      "Loss: 23.751154\n",
      "Validation Loss = 73.018341\n",
      "LR = 0.00299381\n",
      "Epoch 131/250: \n",
      "Loss: 21.711470\n",
      "Validation Loss = 75.844467\n",
      "LR = 0.00270755\n",
      "Epoch 141/250: \n",
      "Loss: 20.256620\n",
      "Validation Loss = 71.468796\n",
      "LR = 0.00244866\n",
      "Epoch 151/250: \n",
      "Loss: 19.200743\n",
      "Validation Loss = 72.901031\n",
      "LR = 0.00221452\n",
      "Epoch 161/250: \n",
      "Loss: 17.917377\n",
      "Validation Loss = 78.694664\n",
      "LR = 0.00200277\n",
      "Epoch 171/250: \n",
      "Loss: 16.641325\n",
      "Validation Loss = 67.885178\n",
      "LR = 0.00181127\n",
      "Epoch 181/250: \n",
      "Loss: 15.308830\n",
      "Validation Loss = 68.490273\n",
      "LR = 0.00163808\n",
      "Epoch 191/250: \n",
      "Loss: 14.957979\n",
      "Validation Loss = 68.363991\n",
      "LR = 0.00148145\n",
      "Epoch 201/250: \n",
      "Loss: 14.303246\n",
      "Validation Loss = 69.957024\n",
      "LR = 0.0013398\n",
      "Epoch 211/250: \n",
      "Loss: 13.860172\n",
      "Validation Loss = 67.500671\n",
      "LR = 0.00121169\n",
      "Epoch 221/250: \n",
      "Loss: 13.434813\n",
      "Validation Loss = 68.060226\n",
      "LR = 0.00109583\n",
      "Epoch 231/250: \n",
      "Loss: 12.619937\n",
      "Validation Loss = 67.792496\n",
      "LR = 0.00099105\n",
      "Epoch 241/250: \n",
      "Loss: 12.138661\n",
      "Validation Loss = 68.196350\n",
      "LR = 0.000896288\n",
      "Epoch 250/250: \n",
      "Loss: 11.409632\n",
      "Validation Loss = 64.595856\n",
      "LR = 0.000827045\n"
     ]
    },
    {
     "data": {
      "image/png": "[encoded data removed]",
      "text/plain": [
       "<matplotlib.figure.Figure at 0x1173418d0>"
      ]
     },
     "metadata": {},
     "output_type": "display_data"
    },
    {
     "name": "stdout",
     "output_type": "stream",
     "text": [
      "size = 10368\n",
      "Accuracy = 0.883\n"
     ]
    },
    {
     "data": {
      "text/plain": [
       "'\\n    feed_dict = {\\n        model.input_placeholder: X_train_gray[0:model.batch_size],\\n        model.labels_placeholder: y_train[0:model.batch_size]\\n    }\\n    \\n    _, loss, prediction = session.run([model.train_op, model.loss, model.prediction], feed_dict=feed_dict)\\n    \\n    print(loss)\\n    print(prediction)\\n'"
      ]
     },
     "execution_count": 124,
     "metadata": {},
     "output_type": "execute_result"
    }
   ],
   "source": [
    "# Model Define\n",
    "\n",
    "class SignsModel(object):\n",
    "    \"\"\"Road Sign Classifier\"\"\"\n",
    "    \n",
    "    def __init__(self, config):\n",
    "        self.batch_size = config.batch_size\n",
    "        self.image_size = config.image_size\n",
    "        self.num_classes = config.num_classes\n",
    "        \n",
    "        self.train_size = config.train_size\n",
    "        \n",
    "        self.config = config\n",
    "        \n",
    "        self.add_placeholders()\n",
    "        self.output_logits = self.add_model()\n",
    "        \n",
    "        self.loss = self.add_loss_op(self.output_logits)\n",
    "        \n",
    "        self.train_op = self.add_training_op(self.loss)\n",
    "        \n",
    "        self.prediction = self.add_prediction(self.output_logits)\n",
    "    \n",
    "    def add_placeholders(self):\n",
    "        \"\"\"Add Placeholders\"\"\"\n",
    "        self.input_placeholder = tf.placeholder(tf.float32,\n",
    "                                                shape=(self.batch_size, self.image_size, self.image_size))\n",
    "        self.labels_placeholder = tf.placeholder(tf.int64, shape=(self.batch_size,))\n",
    "        \n",
    "    def add_model(self):\n",
    "        \"\"\"Model Definition\"\"\"\n",
    "        \n",
    "#         W = tf.get_variable(\"W\", [self.image_size * self.image_size, self.num_classes], tf.float32)\n",
    "#         b = tf.get_variable(\"b\", [self.num_classes], tf.float32)\n",
    "        self.params = {}\n",
    "\n",
    "        self.params[\"W\"] = W = tf.Variable(tf.truncated_normal([self.image_size * self.image_size, self.num_classes]), name=\"W\")\n",
    "        self.params[\"b\"] = b = tf.Variable(tf.truncated_normal([self.num_classes]), \"b\")\n",
    "        \n",
    "        x = tf.reshape(self.input_placeholder, (self.batch_size, -1))\n",
    "        output = tf.matmul(x, W) + b\n",
    "        return output\n",
    "        \n",
    "    def add_loss_op(self, output):\n",
    "        \"\"\"Loss Op\"\"\"\n",
    "        loss = tf.reduce_mean(tf.nn.sparse_softmax_cross_entropy_with_logits(\n",
    "                output, self.labels_placeholder))\n",
    "\n",
    "        # Regularization\n",
    "        regularizers = tf.nn.l2_loss(self.params['W']) + tf.nn.l2_loss(self.params['b'])\n",
    "        loss += 5e-4 * regularizers\n",
    "\n",
    "        return loss\n",
    "        \n",
    "    def add_training_op(self, loss):\n",
    "        \"\"\"Add Training Op\"\"\"\n",
    "        self.global_step = tf.Variable(0, dtype=tf.float32)\n",
    "        self.learning_rate = tf.train.exponential_decay(\n",
    "            self.config.lr,\n",
    "            self.global_step * self.config.batch_size,\n",
    "            self.train_size, # Train size\n",
    "            self.config.lr_decay,\n",
    "            staircase=True\n",
    "        )\n",
    "        optimizer = tf.train.AdamOptimizer(self.learning_rate)\n",
    "        train_op = optimizer.minimize(loss, global_step=self.global_step)\n",
    "        return train_op\n",
    "    \n",
    "    def add_prediction(self, output):\n",
    "        prediction = tf.nn.softmax(output)\n",
    "        return prediction\n",
    "    \n",
    "    def eval_predictions(self, session, data):\n",
    "        batch_size = self.config.batch_size\n",
    "        num_classes = self.config.num_classes\n",
    "        size = data.shape[0]\n",
    "        if size < batch_size:\n",
    "            raise ValueError(\"batch size should be smaller than dataset\")\n",
    "        predictions = np.ndarray(shape=(size, num_classes), dtype=np.float32)\n",
    "        print(\"size =\", size)\n",
    "        \n",
    "        for begin in range(0, size, batch_size):\n",
    "            end = begin + batch_size\n",
    "            if end <= size:\n",
    "                feed_dict = {self.input_placeholder: data[begin:end]}\n",
    "                predictions[begin:end, :] = session.run(self.prediction,\n",
    "                                                        feed_dict=feed_dict)\n",
    "            else:\n",
    "                feed_dict = {self.input_placeholder: data[-batch_size:]}\n",
    "                batch_predictions = session.run(self.prediction,\n",
    "                                               feed_dict=feed_dict)\n",
    "                predictions[begin:] = batch_predictions[begin - size]\n",
    "        return predictions\n",
    "    \n",
    "    def eval_accuracy(self, session, data, labels):\n",
    "        predictions = self.eval_predictions(session, data)\n",
    "        accuracy = np.sum(np.argmax(predictions, axis=1) == labels) / len(predictions)\n",
    "        return accuracy\n",
    "    \n",
    "    def run_epoch(self, session, data, labels, train_op = None, verbose = None):\n",
    "        config = self.config\n",
    "        batch_size = config.batch_size\n",
    "        if not train_op:\n",
    "            train_op = tf.no_op()\n",
    "        num_steps = len(data) // config.batch_size\n",
    "        total_loss = []\n",
    "#         print(\"num_steps =\", num_steps)\n",
    "        for step in range(num_steps):\n",
    "            x = data[step*batch_size:(step+1)*batch_size]\n",
    "            y = labels[step*batch_size:(step+1)*batch_size]\n",
    "#             print(\"x.shape =\", x.shape)\n",
    "#             print(\"y.shape =\", y.shape)\n",
    "            feed_dict = {\n",
    "                self.input_placeholder: x,\n",
    "                self.labels_placeholder: y\n",
    "            }\n",
    "            _, loss, prediction = session.run([train_op, self.loss, self.prediction], feed_dict=feed_dict)\n",
    "            total_loss.append(loss)\n",
    "#             print(\"loss =\", loss)\n",
    "            if verbose is not None and (step + 1) % verbose == 0:\n",
    "                print(\"%d/%d loss = %f\" % (step, num_steps, np.mean(total_loss)))\n",
    "            \n",
    "        return np.mean(total_loss)\n",
    "    \n",
    "    \n",
    "    def train_model(self, session, train_data, train_labels, valid_data, valid_labels):\n",
    "        max_epoch = self.config.max_epoch\n",
    "        \n",
    "        total_train_loss = []\n",
    "        total_valid_loss = []\n",
    "        epoch_valid_loss = 0\n",
    "        for epoch in range(max_epoch):\n",
    "            \n",
    "            epoch_train_loss = self.run_epoch(session, train_data, train_labels, train_op = self.train_op, verbose = 500)\n",
    "            total_train_loss.append(epoch_train_loss)\n",
    "            \n",
    "            epoch_valid_loss = self.run_epoch(session, valid_data, valid_labels)\n",
    "            total_valid_loss.append(epoch_valid_loss)\n",
    "            \n",
    "            if epoch % 10 == 0 or epoch + 1 == max_epoch:\n",
    "                print(\"Epoch %d/%d: \" % (epoch + 1, max_epoch))\n",
    "                print(\"Loss: %f\" % epoch_train_loss)\n",
    "                print(\"Validation Loss = %f\" % (epoch_valid_loss))\n",
    "                lr = session.run(self.learning_rate)\n",
    "                print(\"LR =\", lr)\n",
    "\n",
    "                \n",
    "        x_lab = np.arange(max_epoch)\n",
    "        \n",
    "        fig, ax = plt.subplots()\n",
    "        ax.plot(x_lab, total_train_loss, '', label='Train Loss')\n",
    "        ax.plot(x_lab, total_valid_loss, '', label='Valid Loss')\n",
    "        ax.legend(loc='upper right')\n",
    "        ax.set_title(\"Loss over Epochs\")\n",
    "        plt.show()\n",
    "        \n",
    "            \n",
    "        return epoch_valid_loss\n",
    "            \n",
    "            \n",
    "            \n",
    "        \n",
    "config = SmallConfig()\n",
    "model = SignsModel(config)\n",
    "\n",
    "init = tf.initialize_all_variables()\n",
    "\n",
    "with tf.Session() as session:\n",
    "    session.run(init)\n",
    "    \n",
    "    X_train_gray = data_to_grayscale(X_train)\n",
    "    X_valid_gray = data_to_grayscale(X_valid)\n",
    "    \n",
    "    model.train_model(session, X_train_gray, y_train, X_valid_gray, y_valid)\n",
    "    \n",
    "    X_test_gray = data_to_grayscale(X_test)\n",
    "    accuracy = model.eval_accuracy(session, X_test_gray, y_test)\n",
    "    print(\"Accuracy = %.3f\" % accuracy)\n",
    "    \n",
    "    \n",
    "#     predictions = model.eval_predictions(session, X_test_gray)\n",
    "#     print(\"Predictions.shape =\", predictions.shape)\n",
    "#     accuracy = np.sum(np.argmax(predictions, axis=1) == y_test) / len(predictions)\n",
    "#     print(\"Accuracy = %.3f\" % accuracy)\n",
    "    \n",
    "#     print(\"Predictions =\", np.argmax(predictions, axis=1))\n",
    "    \n",
    "    \n",
    "\"\"\"\n",
    "    feed_dict = {\n",
    "        model.input_placeholder: X_train_gray[0:model.batch_size],\n",
    "        model.labels_placeholder: y_train[0:model.batch_size]\n",
    "    }\n",
    "    \n",
    "    _, loss, prediction = session.run([model.train_op, model.loss, model.prediction], feed_dict=feed_dict)\n",
    "    \n",
    "    print(loss)\n",
    "    print(prediction)\n",
    "\"\"\""
   ]
  },
  {
   "cell_type": "code",
   "execution_count": 118,
   "metadata": {
    "collapsed": false
   },
   "outputs": [
    {
     "name": "stdout",
     "output_type": "stream",
     "text": [
      "[0, 15, 30, 45]\n"
     ]
    }
   ],
   "source": [
    "# Model Creation\n",
    "a = [x for x in range(0, 50, 15)]\n",
    "l = np.arange(4)\n",
    "b = range(4)\n",
    "print(a)\n",
    "# plt.plot(l, b, \"\", l*2, b)\n",
    "# plt.title(\"Loss 1\")\n",
    "\n",
    "# plt.plot([1,2,3,4], range(4))\n",
    "# plt.title(\"Loss 2\")"
   ]
  },
  {
   "cell_type": "markdown",
   "metadata": {},
   "source": [
    "### Question 3\n",
    "\n",
    "_What does your final architecture look like? (Type of model, layers, sizes, connectivity, etc.)  For reference on how to build a deep neural network using TensorFlow, see [Deep Neural Network in TensorFlow\n",
    "](https://classroom.udacity.com/nanodegrees/nd013/parts/fbf77062-5703-404e-b60c-95b78b2f3f9e/modules/6df7ae49-c61c-4bb2-a23e-6527e69209ec/lessons/b516a270-8600-4f93-a0a3-20dfeabe5da6/concepts/83a3a2a2-a9bd-4b7b-95b0-eb924ab14432) from the classroom._\n"
   ]
  },
  {
   "cell_type": "markdown",
   "metadata": {},
   "source": [
    "**Answer:**"
   ]
  },
  {
   "cell_type": "code",
   "execution_count": null,
   "metadata": {
    "collapsed": true
   },
   "outputs": [],
   "source": [
    "### Train your model here.\n",
    "### Feel free to use as many code cells as needed."
   ]
  },
  {
   "cell_type": "markdown",
   "metadata": {},
   "source": [
    "### Question 4\n",
    "\n",
    "_How did you train your model? (Type of optimizer, batch size, epochs, hyperparameters, etc.)_\n"
   ]
  },
  {
   "cell_type": "markdown",
   "metadata": {},
   "source": [
    "**Answer:**"
   ]
  },
  {
   "cell_type": "markdown",
   "metadata": {},
   "source": [
    "### Question 5\n",
    "\n",
    "\n",
    "_What approach did you take in coming up with a solution to this problem?_"
   ]
  },
  {
   "cell_type": "markdown",
   "metadata": {},
   "source": [
    "**Answer:**"
   ]
  },
  {
   "cell_type": "markdown",
   "metadata": {},
   "source": [
    "---\n",
    "\n",
    "## Step 3: Test a Model on New Images\n",
    "\n",
    "Take several pictures of traffic signs that you find on the web or around you (at least five), and run them through your classifier on your computer to produce example results. The classifier might not recognize some local signs but it could prove interesting nonetheless.\n",
    "\n",
    "You may find `signnames.csv` useful as it contains mappings from the class id (integer) to the actual sign name."
   ]
  },
  {
   "cell_type": "markdown",
   "metadata": {},
   "source": [
    "### Implementation\n",
    "\n",
    "Use the code cell (or multiple code cells, if necessary) to implement the first step of your project. Once you have completed your implementation and are satisfied with the results, be sure to thoroughly answer the questions that follow."
   ]
  },
  {
   "cell_type": "code",
   "execution_count": null,
   "metadata": {
    "collapsed": true
   },
   "outputs": [],
   "source": [
    "### Load the images and plot them here.\n",
    "### Feel free to use as many code cells as needed."
   ]
  },
  {
   "cell_type": "markdown",
   "metadata": {},
   "source": [
    "### Question 6\n",
    "\n",
    "_Choose five candidate images of traffic signs and provide them in the report. Are there any particular qualities of the image(s) that might make classification difficult? It would be helpful to plot the images in the notebook._\n",
    "\n"
   ]
  },
  {
   "cell_type": "markdown",
   "metadata": {},
   "source": [
    "**Answer:**"
   ]
  },
  {
   "cell_type": "code",
   "execution_count": null,
   "metadata": {
    "collapsed": true
   },
   "outputs": [],
   "source": [
    "### Run the predictions here.\n",
    "### Feel free to use as many code cells as needed."
   ]
  },
  {
   "cell_type": "markdown",
   "metadata": {},
   "source": [
    "### Question 7\n",
    "\n",
    "_Is your model able to perform equally well on captured pictures or a live camera stream when compared to testing on the dataset?_\n"
   ]
  },
  {
   "cell_type": "markdown",
   "metadata": {},
   "source": [
    "**Answer:**"
   ]
  },
  {
   "cell_type": "code",
   "execution_count": null,
   "metadata": {
    "collapsed": true
   },
   "outputs": [],
   "source": [
    "### Visualize the softmax probabilities here.\n",
    "### Feel free to use as many code cells as needed."
   ]
  },
  {
   "cell_type": "markdown",
   "metadata": {},
   "source": [
    "### Question 8\n",
    "\n",
    "*Use the model's softmax probabilities to visualize the **certainty** of its predictions, [`tf.nn.top_k`](https://www.tensorflow.org/versions/r0.11/api_docs/python/nn.html#top_k) could prove helpful here. Which predictions is the model certain of? Uncertain? If the model was incorrect in its initial prediction, does the correct prediction appear in the top k? (k should be 5 at most)*\n"
   ]
  },
  {
   "cell_type": "markdown",
   "metadata": {},
   "source": [
    "**Answer:**"
   ]
  },
  {
   "cell_type": "markdown",
   "metadata": {},
   "source": [
    "### Question 9\n",
    "_If necessary, provide documentation for how an interface was built for your model to load and classify newly-acquired images._\n"
   ]
  },
  {
   "cell_type": "markdown",
   "metadata": {},
   "source": [
    "**Answer:**"
   ]
  },
  {
   "cell_type": "markdown",
   "metadata": {},
   "source": [
    "> **Note**: Once you have completed all of the code implementations and successfully answered each question above, you may finalize your work by exporting the iPython Notebook as an HTML document. You can do this by using the menu above and navigating to  \\n\",\n",
    "    \"**File -> Download as -> HTML (.html)**. Include the finished document along with this notebook as your submission."
   ]
  },
  {
   "cell_type": "code",
   "execution_count": null,
   "metadata": {
    "collapsed": true
   },
   "outputs": [],
   "source": []
  }
 ],
 "metadata": {
  "anaconda-cloud": {},
  "kernelspec": {
   "display_name": "Python [default]",
   "language": "python",
   "name": "python3"
  },
  "language_info": {
   "codemirror_mode": {
    "name": "ipython",
    "version": 3
   },
   "file_extension": ".py",
   "mimetype": "text/x-python",
   "name": "python",
   "nbconvert_exporter": "python",
   "pygments_lexer": "ipython3",
   "version": "3.5.2"
  }
 },
 "nbformat": 4,
 "nbformat_minor": 1
}
