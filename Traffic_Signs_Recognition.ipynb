{
 "cells": [
  {
   "cell_type": "markdown",
   "metadata": {},
   "source": [
    "# Self-Driving Car Engineer Nanodegree\n",
    "\n",
    "## Deep Learning\n",
    "\n",
    "## Project: Build a Traffic Sign Recognition Classifier\n",
    "\n",
    "In this notebook, a template is provided for you to implement your functionality in stages which is required to successfully complete this project. If additional code is required that cannot be included in the notebook, be sure that the Python code is successfully imported and included in your submission, if necessary. Sections that begin with **'Implementation'** in the header indicate where you should begin your implementation for your project. Note that some sections of implementation are optional, and will be marked with **'Optional'** in the header.\n",
    "\n",
    "In addition to implementing code, there will be questions that you must answer which relate to the project and your implementation. Each section where you will answer a question is preceded by a **'Question'** header. Carefully read each question and provide thorough answers in the following text boxes that begin with **'Answer:'**. Your project submission will be evaluated based on your answers to each of the questions and the implementation you provide.\n",
    "\n",
    ">**Note:** Code and Markdown cells can be executed using the **Shift + Enter** keyboard shortcut. In addition, Markdown cells can be edited by typically double-clicking the cell to enter edit mode."
   ]
  },
  {
   "cell_type": "markdown",
   "metadata": {},
   "source": [
    "---\n",
    "\n",
    "## Step 1: Dataset Exploration\n",
    "\n",
    "Visualize the German Traffic Signs Dataset. This is open ended, some suggestions include: plotting traffic signs images, plotting the count of each sign, etc. Be creative!\n",
    "\n",
    "\n",
    "The pickled data is a dictionary with 4 key/value pairs:\n",
    "\n",
    "- features -> the images pixel values, (width, height, channels)\n",
    "- labels -> the label of the traffic sign\n",
    "- sizes -> the original width and height of the image, (width, height)\n",
    "- coords -> coordinates of a bounding box around the sign in the image, (x1, y1, x2, y2). Based the original image (not the resized version)."
   ]
  },
  {
   "cell_type": "code",
   "execution_count": 1,
   "metadata": {
    "collapsed": false
   },
   "outputs": [],
   "source": [
    "import numpy as np\n",
    "import tensorflow as tf\n",
    "import cv2\n",
    "import matplotlib.pyplot as plt\n",
    "import time\n",
    "import csv\n",
    "import itertools\n",
    "from tqdm import tnrange\n",
    "%matplotlib inline"
   ]
  },
  {
   "cell_type": "code",
   "execution_count": 2,
   "metadata": {
    "collapsed": true
   },
   "outputs": [],
   "source": [
    "# Load pickled data\n",
    "import pickle\n",
    "\n",
    "# TODO: fill this in based on where you saved the training and testing data\n",
    "training_file = '../../sdc/traffic-signs-data/train.p'\n",
    "testing_file = '../../sdc/traffic-signs-data/test.p'\n",
    "\n",
    "with open(training_file, mode='rb') as f:\n",
    "    train = pickle.load(f)\n",
    "with open(testing_file, mode='rb') as f:\n",
    "    test = pickle.load(f)\n",
    "    \n",
    "X_train, y_train = train['features'], train['labels']\n",
    "X_test, y_test = test['features'], test['labels']"
   ]
  },
  {
   "cell_type": "code",
   "execution_count": null,
   "metadata": {
    "collapsed": true
   },
   "outputs": [],
   "source": [
    "# Load Sign Names\n",
    "\n",
    "def read_signnames(file):\n",
    "    with open(file) as f:\n",
    "        csvreader = csv.reader(f)\n",
    "        header = next(csvreader)\n",
    "        signnames = {}\n",
    "        for row in csvreader:\n",
    "            signnames[int(row[0])] = row[1]\n",
    "        return signnames\n",
    "\n",
    "signnames = read_signnames('signnames.csv')\n",
    "print(\"Sign names loaded: len = \", len(signnames))"
   ]
  },
  {
   "cell_type": "code",
   "execution_count": 3,
   "metadata": {
    "collapsed": false
   },
   "outputs": [
    {
     "name": "stdout",
     "output_type": "stream",
     "text": [
      "X_train.shape = (39209, 32, 32, 3)\n",
      "y_train.shape = (39209,)\n",
      "X_test.shape = (12630, 32, 32, 3)\n",
      "y_test.shape = (12630,)\n",
      "image shape =  (32, 32, 3)\n"
     ]
    },
    {
     "data": {
      "text/plain": [
       "43"
      ]
     },
     "execution_count": 3,
     "metadata": {},
     "output_type": "execute_result"
    }
   ],
   "source": [
    "print('X_train.shape =', X_train.shape)\n",
    "print('y_train.shape =', y_train.shape)\n",
    "print('X_test.shape =', X_test.shape)\n",
    "print('y_test.shape =', y_test.shape)\n",
    "print('image shape = ', X_train[0].shape)\n",
    "np.max(y_train)+1\n"
   ]
  },
  {
   "cell_type": "code",
   "execution_count": 4,
   "metadata": {
    "collapsed": false
   },
   "outputs": [
    {
     "name": "stdout",
     "output_type": "stream",
     "text": [
      "Number of training examples = 39209\n",
      "Number of testing examples = 12630\n",
      "Image data shape = (32, 32, 3)\n",
      "Number of classes = 43\n"
     ]
    }
   ],
   "source": [
    "### To start off let's do a basic data summary.\n",
    "\n",
    "# TODO: number of training examples\n",
    "n_train = X_train.shape[0]\n",
    "\n",
    "# TODO: number of testing examples\n",
    "n_test = X_test.shape[0]\n",
    "\n",
    "# TODO: what's the shape of an image?\n",
    "image_shape = X_train[0].shape\n",
    "\n",
    "# TODO: how many classes are in the dataset\n",
    "n_classes = np.max(y_train) + 1\n",
    "\n",
    "print(\"Number of training examples =\", n_train)\n",
    "print(\"Number of testing examples =\", n_test)\n",
    "print(\"Image data shape =\", image_shape)\n",
    "print(\"Number of classes =\", n_classes)"
   ]
  },
  {
   "cell_type": "code",
   "execution_count": 5,
   "metadata": {
    "collapsed": false
   },
   "outputs": [],
   "source": [
    "### Data exploration visualization goes here.\n",
    "### Feel free to use as many code cells as needed.\n",
    "\n",
    "\n",
    "\n",
    "# Show all classes\n",
    "# num_line = 9\n",
    "# num_imgs = 3\n",
    "# for c in range(n_classes):\n",
    "#     if c * num_imgs % num_line == 0:\n",
    "#         plt.figure((c * num_imgs) // num_line, figsize=(18, 2))\n",
    "#     s = X_train[y_train == c]\n",
    "#     indices = np.random.randint(0, len(s), num_imgs)\n",
    "\n",
    "#     for n, idx in enumerate(indices):\n",
    "#         plot_num = (c * num_imgs) % num_line + n + 1\n",
    "#         plt.subplot(1, num_line, plot_num)\n",
    "#         cur_axes = plt.gca()\n",
    "#         cur_axes.axes.get_xaxis().set_ticks([])\n",
    "#         cur_axes.axes.get_yaxis().set_ticks([])\n",
    "#         plt.imshow(s[idx])\n",
    "#         plt.title('Class %d' % c)\n",
    "\n",
    "        \n"
   ]
  },
  {
   "cell_type": "code",
   "execution_count": 6,
   "metadata": {
    "collapsed": false
   },
   "outputs": [
    {
     "data": {
      "image/png": "[encoded data removed]",
      "text/plain": [
       "<matplotlib.figure.Figure at 0x115a02f28>"
      ]
     },
     "metadata": {},
     "output_type": "display_data"
    },
    {
     "data": {
      "image/png": "[encoded data removed]",
      "text/plain": [
       "<matplotlib.figure.Figure at 0x115a10080>"
      ]
     },
     "metadata": {},
     "output_type": "display_data"
    }
   ],
   "source": [
    "# Draw the classes distribution in X_train samples\n",
    "\n",
    "def show_classes_distribution(labels, title = None):\n",
    "    # Count classes samples\n",
    "    uniq_labels = sorted(set(labels.tolist()))\n",
    "    n_labels = len(uniq_labels)\n",
    "    class_counts = np.zeros([n_labels])\n",
    "    for c in uniq_labels:\n",
    "        class_counts[c] = np.sum(labels == c)\n",
    "    y_pos = np.arange(n_labels)\n",
    "    plt.figure(figsize=(18, 5))\n",
    "    plt.bar(uniq_labels, class_counts)\n",
    "    plt.xticks(y_pos)\n",
    "    plt.ylabel('Classes Counts')\n",
    "    if title: plt.title(title)\n",
    "    \n",
    "show_classes_distribution(y_train, title='Train Classes Distribution')\n",
    "show_classes_distribution(y_test, title='Test Classes Distribution')\n"
   ]
  },
  {
   "cell_type": "markdown",
   "metadata": {},
   "source": [
    "----\n",
    "\n",
    "## Step 2: Design and Test a Model Architecture\n",
    "\n",
    "Design and implement a deep learning model that learns to recognize traffic signs. Train and test your model on the [German Traffic Sign Dataset](http://benchmark.ini.rub.de/?section=gtsrb&subsection=dataset).\n",
    "\n",
    "There are various aspects to consider when thinking about this problem:\n",
    "\n",
    "- Your model can be derived from a deep feedforward net or a deep convolutional network.\n",
    "- Play around preprocessing techniques (normalization, rgb to grayscale, etc)\n",
    "- Number of examples per label (some have more than others).\n",
    "- Generate fake data.\n",
    "\n",
    "Here is an example of a [published baseline model on this problem](http://yann.lecun.com/exdb/publis/pdf/sermanet-ijcnn-11.pdf). It's not required to be familiar with the approach used in the paper but, it's good practice to try to read papers like these."
   ]
  },
  {
   "cell_type": "markdown",
   "metadata": {},
   "source": [
    "### Implementation\n",
    "\n",
    "Use the code cell (or multiple code cells, if necessary) to implement the first step of your project. Once you have completed your implementation and are satisfied with the results, be sure to thoroughly answer the questions that follow."
   ]
  },
  {
   "cell_type": "code",
   "execution_count": 7,
   "metadata": {
    "collapsed": false
   },
   "outputs": [
    {
     "data": {
      "text/plain": [
       "\"\\nX_train_gray = data_to_grayscale(X_train)\\n\\n# Show random images from X_train_gray\\nn_samples = 12\\nn_samples_idx = np.random.randint(0, len(X_train_gray), n_samples)\\ngray_samples = X_train_gray[n_samples_idx]\\nplt.figure(figsize=(18, 5))\\nfor n, img in enumerate(gray_samples):\\n    plt.subplot(1, n_samples, n + 1)\\n    cur_axes = plt.gca()\\n    cur_axes.axes.get_xaxis().set_ticks([])\\n    cur_axes.axes.get_yaxis().set_ticks([])\\n    plt.imshow(img, cmap='gray')\\n\""
      ]
     },
     "execution_count": 7,
     "metadata": {},
     "output_type": "execute_result"
    }
   ],
   "source": [
    "### Preprocess the data here.\n",
    "### Feel free to use as many code cells as needed.\n",
    "\n",
    "def grayscale(img):\n",
    "    \"\"\"Applies the Grayscale transform\n",
    "    This will return an image with only one color channel\n",
    "    but NOTE: to see the returned image as grayscale\n",
    "    you should call plt.imshow(gray, cmap='gray')\"\"\"\n",
    "    return cv2.cvtColor(img, cv2.COLOR_BGR2GRAY)\n",
    "\n",
    "\n",
    "def data_to_grayscale(data):\n",
    "    # Transform to grayscale\n",
    "    shape = data.shape\n",
    "    data_gray = np.zeros((shape[0], shape[1], shape[2]))\n",
    "    for idx, image in enumerate(data):\n",
    "        data_gray[idx] = grayscale(image)\n",
    "    return data_gray\n",
    "    \n",
    "\n",
    "\"\"\"\n",
    "X_train_gray = data_to_grayscale(X_train)\n",
    "\n",
    "# Show random images from X_train_gray\n",
    "n_samples = 12\n",
    "n_samples_idx = np.random.randint(0, len(X_train_gray), n_samples)\n",
    "gray_samples = X_train_gray[n_samples_idx]\n",
    "plt.figure(figsize=(18, 5))\n",
    "for n, img in enumerate(gray_samples):\n",
    "    plt.subplot(1, n_samples, n + 1)\n",
    "    cur_axes = plt.gca()\n",
    "    cur_axes.axes.get_xaxis().set_ticks([])\n",
    "    cur_axes.axes.get_yaxis().set_ticks([])\n",
    "    plt.imshow(img, cmap='gray')\n",
    "\"\"\"\n"
   ]
  },
  {
   "cell_type": "markdown",
   "metadata": {},
   "source": [
    "### Question 1 \n",
    "\n",
    "_Describe the techniques used to preprocess the data._"
   ]
  },
  {
   "cell_type": "markdown",
   "metadata": {},
   "source": [
    "**Answer:**"
   ]
  },
  {
   "cell_type": "code",
   "execution_count": 8,
   "metadata": {
    "collapsed": false
   },
   "outputs": [
    {
     "data": {
      "image/png": "[encoded data removed]",
      "text/plain": [
       "<matplotlib.figure.Figure at 0x12b8a7e80>"
      ]
     },
     "metadata": {},
     "output_type": "display_data"
    },
    {
     "data": {
      "image/png": "[encoded data removed]",
      "text/plain": [
       "<matplotlib.figure.Figure at 0x12b8a7d30>"
      ]
     },
     "metadata": {},
     "output_type": "display_data"
    },
    {
     "data": {
      "image/png": "[encoded data removed]",
      "text/plain": [
       "<matplotlib.figure.Figure at 0x12c00eeb8>"
      ]
     },
     "metadata": {},
     "output_type": "display_data"
    }
   ],
   "source": [
    "### Generate data additional (if you want to!)\n",
    "### and split the data into training/validation/testing sets here.\n",
    "### Feel free to use as many code cells as needed.\n",
    "\n",
    "# Generate additional data hints\n",
    "# real-world variabilities such as viewpoint variations, lighting conditions\n",
    "# (saturations, low-contrast), motion-blur, occlusions, sun\n",
    "# glare, physical damage, colors fading, graffiti, stickers and\n",
    "# an input resolution as low as 15x15\n",
    "\n",
    "\n",
    "# Split Data into Train/Validation/Test\n",
    "\n",
    "# Combine train and test into one dataset\n",
    "X = np.concatenate((X_train, X_test), axis=0)\n",
    "y = np.concatenate((y_train, y_test), axis=0)\n",
    "\n",
    "# Shuffle it\n",
    "r_idx = np.random.permutation(len(X))\n",
    "X = X[r_idx]\n",
    "y = y[r_idx]\n",
    "\n",
    "# Train/Valid/Test distributions\n",
    "p_train = 0.6\n",
    "p_valid = 0.2\n",
    "p_test = 0.2\n",
    "\n",
    "# Sanity check\n",
    "assert p_train + p_valid + p_test == 1.0\n",
    "\n",
    "N = len(X)\n",
    "train_idx = int(N*p_train)\n",
    "valid_idx = int(N*(p_train+p_valid))\n",
    "X_train = X[:train_idx]\n",
    "y_train = y[:train_idx]\n",
    "X_valid = X[train_idx:valid_idx]\n",
    "y_valid = y[train_idx:valid_idx]\n",
    "X_test = X[valid_idx:]\n",
    "y_test = y[valid_idx:]\n",
    "                \n",
    "assert len(X_train) + len(X_valid) + len(X_test) == N\n",
    "assert len(y_train) + len(y_valid) + len(y_test) == N\n",
    "\n",
    "show_classes_distribution(y_train, 'Train')\n",
    "show_classes_distribution(y_valid, 'Validation')\n",
    "show_classes_distribution(y_test, 'Test')"
   ]
  },
  {
   "cell_type": "code",
   "execution_count": 9,
   "metadata": {
    "collapsed": false
   },
   "outputs": [],
   "source": [
    "# Normalize data\n",
    "def normalize(data):\n",
    "    pixel_depth = 255\n",
    "    return (data - pixel_depth / 2) / pixel_depth\n",
    "\n",
    "X_train_norm = normalize(X_train)\n",
    "X_valid_norm = normalize(X_valid)\n",
    "X_test_norm = normalize(X_test)\n",
    "\n",
    "# print(\"X_train[0] =\", X_valid[0])"
   ]
  },
  {
   "cell_type": "markdown",
   "metadata": {},
   "source": [
    "### Question 2\n",
    "\n",
    "_Describe how you set up the training, validation and testing data for your model. If you generated additional data, why?_"
   ]
  },
  {
   "cell_type": "markdown",
   "metadata": {},
   "source": [
    "**Answer:**"
   ]
  },
  {
   "cell_type": "code",
   "execution_count": 10,
   "metadata": {
    "collapsed": true
   },
   "outputs": [],
   "source": [
    "### Define your architecture here.\n",
    "### Feel free to use as many code cells as needed."
   ]
  },
  {
   "cell_type": "code",
   "execution_count": 11,
   "metadata": {
    "collapsed": false
   },
   "outputs": [],
   "source": [
    "# Config\n",
    "\n",
    "class SmallConfig(object):\n",
    "    \"\"\"Small config. \"\"\"\n",
    "    # init_scale = 0.1\n",
    "    image_size = 32\n",
    "    num_classes = 43\n",
    "    num_channels = 3\n",
    "    fc1_size = 512\n",
    "    batch_size = 128 # 128\n",
    "    max_epoch = 55 # 250 45\n",
    "    keep_prob = 0.5\n",
    "    lr = 0.01\n",
    "    lr_decay = 0.95\n",
    "    train_size = X_train.shape[0]\n"
   ]
  },
  {
   "cell_type": "code",
   "execution_count": 19,
   "metadata": {
    "collapsed": false,
    "scrolled": false
   },
   "outputs": [
    {
     "name": "stdout",
     "output_type": "stream",
     "text": [
      "X_train.shape = (31103, 32, 32, 3)\n",
      "y_train.shape = (31103,)\n",
      "X_valid.shape = (10368, 32, 32, 3)\n",
      "y_valid.shape = (10368,)\n",
      "X_test.shape = (10368, 32, 32, 3)\n",
      "y_test.shape = (10368,)\n",
      "Model restored from  params/model_params_201611241412.ckpt\n",
      "Checking test accuracy:\n",
      "size = 10368\n",
      "sum_ones = 10281  of len = 10368\n",
      "Test Accuracy = 0.9916\n"
     ]
    },
    {
     "data": {
      "text/plain": [
       "'\\n    feed_dict = {\\n        model.input_placeholder: X_train_gray[0:model.batch_size],\\n        model.labels_placeholder: y_train[0:model.batch_size]\\n    }\\n    \\n    _, loss, prediction = session.run([model.train_op, model.loss, model.prediction], feed_dict=feed_dict)\\n    \\n    print(loss)\\n    print(prediction)\\n'"
      ]
     },
     "execution_count": 19,
     "metadata": {},
     "output_type": "execute_result"
    }
   ],
   "source": [
    "# Model Define\n",
    "\n",
    "class SignsModel(object):\n",
    "    \"\"\"Road Sign Classifier\"\"\"\n",
    "    \n",
    "    def __init__(self, config):\n",
    "        self.batch_size = config.batch_size\n",
    "        self.image_size = config.image_size\n",
    "        self.num_classes = config.num_classes\n",
    "        self.num_channels = config.num_channels\n",
    "        \n",
    "        self.train_size = config.train_size\n",
    "        \n",
    "        self.config = config\n",
    "        \n",
    "        self.add_placeholders()\n",
    "        \n",
    "        self.output_logits = self.add_model()\n",
    "        \n",
    "        self.loss = self.add_loss_op(self.output_logits)\n",
    "        \n",
    "        self.train_op = self.add_training_op(self.loss)\n",
    "        \n",
    "        self.prediction = self.add_prediction(self.output_logits)\n",
    "    \n",
    "    def add_placeholders_old(self):\n",
    "        \"\"\"Add Placeholders\"\"\"\n",
    "        self.input_placeholder = tf.placeholder(tf.float32,\n",
    "                                                shape=(self.batch_size, self.image_size, self.image_size))\n",
    "        self.labels_placeholder = tf.placeholder(tf.int64, shape=(self.batch_size,))        \n",
    "        \n",
    "        \n",
    "    def add_placeholders(self):\n",
    "        \"\"\"Add Placeholders\"\"\"\n",
    "        self.input_placeholder = tf.placeholder(tf.float32,\n",
    "                                                shape=(self.batch_size, self.image_size, self.image_size, self.num_channels),\n",
    "                                                name=\"Inputs\")\n",
    "        self.labels_placeholder = tf.placeholder(tf.int64, shape=(self.batch_size,), name=\"Labels\")\n",
    "        self.dropout_placeholder = tf.placeholder(tf.float32, name=\"Dropout\")\n",
    "\n",
    "        \n",
    "    def add_model_old(self):\n",
    "        \"\"\"Model Definition (it was first test model, not used now)\"\"\"\n",
    "        \n",
    "#         W = tf.get_variable(\"W\", [self.image_size * self.image_size, self.num_classes], tf.float32)\n",
    "#         b = tf.get_variable(\"b\", [self.num_classes], tf.float32)\n",
    "        self.params = {}\n",
    "\n",
    "        self.params[\"W\"] = W = tf.Variable(tf.truncated_normal([self.image_size * self.image_size, self.num_classes]), name=\"W\")\n",
    "        self.params[\"b\"] = b = tf.Variable(tf.truncated_normal([self.num_classes]), \"b\")\n",
    "        \n",
    "        x = tf.reshape(self.input_placeholder, (self.batch_size, -1))\n",
    "        output = tf.matmul(x, W) + b\n",
    "        return output\n",
    "    \n",
    "    def add_model(self):\n",
    "        \"\"\"Model Definition\"\"\"\n",
    "\n",
    "        fc1_size = self.config.fc1_size\n",
    "        \n",
    "        self.params = {}\n",
    "\n",
    "        \n",
    "        conv1_depth = 32\n",
    "        conv2_depth = 64\n",
    "        \n",
    "        # Define variables\n",
    "        self.params[\"conv1_weights\"] = conv1_weights = tf.Variable(\n",
    "            tf.truncated_normal([5, 5, self.num_channels, conv1_depth],\n",
    "                                stddev=0.1,\n",
    "                                dtype=tf.float32), name=\"conv1_weights\")\n",
    "        self.params[\"conv1_biases\"] = conv1_biases = tf.Variable(tf.zeros([conv1_depth], dtype=tf.float32),\n",
    "                                                                name=\"conv1_biases\")\n",
    "        \n",
    "        self.params[\"conv2_weights\"] = conv2_weights = tf.Variable(\n",
    "            tf.truncated_normal([5, 5, conv1_depth, conv2_depth],\n",
    "                                stddev=0.1,\n",
    "                                dtype=tf.float32), name=\"conv2_weights\")\n",
    "        self.params[\"conv2_biases\"] = conv2_biases = tf.Variable(tf.zeros([conv2_depth], dtype=tf.float32),\n",
    "                                                                name=\"conv2_biases\")\n",
    "\n",
    "        \n",
    "        self.params[\"W1\"] = W1 = tf.Variable(tf.truncated_normal([self.image_size // 4 * self.image_size // 4 * conv2_depth, self.num_classes]), name=\"W1\")\n",
    "        self.params[\"b1\"] = b1 = tf.Variable(tf.truncated_normal([self.num_classes]), \"b1\")\n",
    "        \n",
    "        # Define ops\n",
    "        \n",
    "        # Conv Layer 1\n",
    "        conv = tf.nn.conv2d(self.input_placeholder,\n",
    "                            conv1_weights,\n",
    "                            strides=[1, 1, 1, 1],\n",
    "                            padding='SAME')\n",
    "        relu = tf.nn.relu(tf.nn.bias_add(conv, conv1_biases))\n",
    "        pool = tf.nn.max_pool(relu,\n",
    "                              ksize=[1, 2, 2, 1],\n",
    "                              strides=[1, 2, 2, 1],\n",
    "                              padding='SAME')\n",
    "        \n",
    "        # Conv Layer 2\n",
    "        conv = tf.nn.conv2d(pool,\n",
    "                            conv2_weights,\n",
    "                            strides=[1, 1, 1, 1],\n",
    "                            padding='SAME')\n",
    "        relu = tf.nn.relu(tf.nn.bias_add(conv, conv2_biases))\n",
    "        pool = tf.nn.max_pool(relu,\n",
    "                              ksize=[1, 2, 2, 1],\n",
    "                              strides=[1, 2, 2, 1],\n",
    "                              padding='SAME')\n",
    "\n",
    "        \n",
    "        # Reshape for fully connected layers\n",
    "        pshape = pool.get_shape().as_list()\n",
    "        pool_line = tf.reshape(pool, [pshape[0], pshape[1] * pshape[2] * pshape[3]])\n",
    "        \n",
    "        # Used only during training by setting dropout param to config.keep_prob\n",
    "        pool_line = tf.nn.dropout(pool_line, self.dropout_placeholder)\n",
    "        \n",
    "        output = tf.matmul(pool_line, W1) + b1\n",
    "      \n",
    "        return output\n",
    "\n",
    "        \n",
    "    def add_loss_op(self, output):\n",
    "        \"\"\"Loss Op\"\"\"\n",
    "        loss = tf.reduce_mean(tf.nn.sparse_softmax_cross_entropy_with_logits(\n",
    "                output, self.labels_placeholder))\n",
    "\n",
    "        # Regularization\n",
    "        regularizers = tf.nn.l2_loss(self.params['W1']) + tf.nn.l2_loss(self.params['b1'])\n",
    "        loss += 5e-4 * regularizers\n",
    "\n",
    "        return loss\n",
    "        \n",
    "    def add_training_op(self, loss):\n",
    "        \"\"\"Add Training Op\"\"\"\n",
    "        self.global_step = tf.Variable(0, dtype=tf.float32, name=\"global_step\")\n",
    "        self.learning_rate = tf.train.exponential_decay(\n",
    "            self.config.lr,\n",
    "            self.global_step * self.config.batch_size,\n",
    "            self.train_size, # Train size\n",
    "            self.config.lr_decay,\n",
    "            staircase=True\n",
    "        )\n",
    "        optimizer = tf.train.AdamOptimizer(self.learning_rate)\n",
    "        train_op = optimizer.minimize(loss, global_step=self.global_step)\n",
    "        return train_op\n",
    "    \n",
    "    def add_prediction(self, output):\n",
    "        prediction = tf.nn.softmax(output)\n",
    "        return prediction\n",
    "    \n",
    "    def eval_predictions(self, session, data):\n",
    "        batch_size = self.config.batch_size\n",
    "        num_classes = self.config.num_classes\n",
    "        size = data.shape[0]\n",
    "        if size < batch_size:\n",
    "            raise ValueError(\"batch size should be smaller than dataset\")\n",
    "        predictions = np.ndarray(shape=(size, num_classes), dtype=np.float32)\n",
    "        print(\"size =\", size)\n",
    "        \n",
    "        for begin in range(0, size, batch_size):\n",
    "            end = begin + batch_size\n",
    "            if end <= size:\n",
    "                feed_dict = {\n",
    "                    self.input_placeholder: data[begin:end],\n",
    "                    self.dropout_placeholder: 1.0\n",
    "                }\n",
    "                predictions[begin:end, :] = session.run(self.prediction,\n",
    "                                                        feed_dict=feed_dict)\n",
    "            else:\n",
    "                feed_dict = {\n",
    "                    self.input_placeholder: data[-batch_size:],\n",
    "                    self.dropout_placeholder: 1.0\n",
    "                }\n",
    "                batch_predictions = session.run(self.prediction,\n",
    "                                               feed_dict=feed_dict)\n",
    "                predictions[begin:] = batch_predictions[begin - size]\n",
    "        return predictions\n",
    "    \n",
    "    def eval_accuracy(self, session, data, labels):\n",
    "        predictions = self.eval_predictions(session, data)\n",
    "        sum_ones = np.sum(np.argmax(predictions, axis=1) == labels)\n",
    "        print(\"sum_ones =\", sum_ones, \" of len =\", len(predictions))\n",
    "        accuracy = sum_ones / len(predictions)\n",
    "        return accuracy\n",
    "    \n",
    "    def run_epoch(self, session, data, labels, train_op = None, verbose = None):\n",
    "        config = self.config\n",
    "        batch_size = config.batch_size\n",
    "        keep_prob = config.keep_prob\n",
    "        num_steps = len(data) // batch_size\n",
    "        \n",
    "        if not train_op:\n",
    "            train_op = tf.no_op()\n",
    "            keep_prob = 1.0\n",
    "            print(\"keep_prob =\", keep_prob)\n",
    "            steps_range = tnrange(num_steps, desc=\"Eval\") # tqdm progress\n",
    "        else:\n",
    "            steps_range = tnrange(num_steps, desc=\"Steps\") # tqdm progress\n",
    "        \n",
    "        total_loss = []\n",
    "#         print(\"num_steps =\", num_steps)\n",
    "        for step in steps_range:\n",
    "            x = data[step*batch_size:(step+1)*batch_size]\n",
    "            y = labels[step*batch_size:(step+1)*batch_size]\n",
    "            \n",
    "#             print(\"x.shape =\", x.shape)\n",
    "#             print(\"y.shape =\", y.shape)\n",
    "            feed_dict = {\n",
    "                self.input_placeholder: x,\n",
    "                self.labels_placeholder: y,\n",
    "                self.dropout_placeholder: keep_prob\n",
    "            }\n",
    "            _, loss, prediction = session.run([train_op, self.loss, self.prediction], feed_dict=feed_dict)\n",
    "#             print(\"- conv =\", conv)\n",
    "#             print(\"- loss =\", loss)\n",
    "#             print(\"- logits =\", logits)\n",
    "#             print(\"- prediction =\", prediction)\n",
    "#             print(\"- prediction1 =\", prediction[:, np.argmax(prediction, axis=1)])\n",
    "#             print(\"- prediction max =\", np.argmax(prediction, axis=1))\n",
    "#             print(\"- y =\", y)\n",
    "            total_loss.append(loss)\n",
    "#             print(\"loss =\", loss)\n",
    "            if verbose is not None and (step + 1) % verbose == 0:\n",
    "                print(\"%d/%d loss = %f\" % (step, num_steps, np.mean(total_loss)))\n",
    "#             if step > 80: break\n",
    "            \n",
    "        return np.mean(total_loss)\n",
    "    \n",
    "    \n",
    "    def train_model(self, session, train_data, train_labels, valid_data, valid_labels):\n",
    "        max_epoch = self.config.max_epoch\n",
    "        \n",
    "        total_train_loss = []\n",
    "        total_valid_loss = []\n",
    "        epoch_valid_loss = 0\n",
    "        for epoch in tnrange(max_epoch, desc=\"Epochs\"):\n",
    "            \n",
    "            epoch_train_loss = self.run_epoch(session, train_data, train_labels, train_op = self.train_op, verbose = 20)\n",
    "            total_train_loss.append(epoch_train_loss)\n",
    "            \n",
    "            epoch_valid_loss = self.run_epoch(session, valid_data, valid_labels)\n",
    "            total_valid_loss.append(epoch_valid_loss)\n",
    "            \n",
    "            if epoch % 1 == 0 or epoch + 1 == max_epoch:\n",
    "                print(\"Epoch %d/%d: \" % (epoch + 1, max_epoch))\n",
    "                print(\"Loss: %f\" % epoch_train_loss)\n",
    "                print(\"Validation Loss = %f\" % (epoch_valid_loss))\n",
    "                lr = session.run(self.learning_rate)\n",
    "                print(\"LR =\", lr)\n",
    "\n",
    "                \n",
    "        x_lab = np.arange(max_epoch)\n",
    "        \n",
    "        fig, ax = plt.subplots()\n",
    "        ax.plot(x_lab, total_train_loss, '', label='Train Loss')\n",
    "        ax.plot(x_lab, total_valid_loss, '', label='Valid Loss')\n",
    "        ax.legend(loc='upper right')\n",
    "        ax.set_title(\"Loss over Epochs\")\n",
    "        plt.show()\n",
    "        \n",
    "            \n",
    "        return epoch_valid_loss\n",
    "            \n",
    "            \n",
    "\n",
    "            \n",
    "print(\"X_train.shape =\", X_train_norm.shape)\n",
    "print(\"y_train.shape =\", y_train.shape)\n",
    "print(\"X_valid.shape =\", X_valid_norm.shape)\n",
    "print(\"y_valid.shape =\", y_valid.shape)\n",
    "print(\"X_test.shape =\", X_test_norm.shape)\n",
    "print(\"y_test.shape =\", y_test.shape)\n",
    "   \n",
    "# Reset graph so to have each time the same variable (useful for store/restore)\n",
    "tf.reset_default_graph()\n",
    "        \n",
    "config = SmallConfig()\n",
    "model = SignsModel(config)\n",
    "\n",
    "# To train model from scratch change this to False\n",
    "restore = True\n",
    "restore_file = 'params/model_params_201611241412.ckpt'\n",
    "\n",
    "# Create a session\n",
    "session = tf.Session()\n",
    "saver = tf.train.Saver(write_version=1)\n",
    "\n",
    "# Restore or Initialize params\n",
    "if restore and restore_file:\n",
    "    saver.restore(session, restore_file)\n",
    "    print(\"Model restored from \", restore_file)\n",
    "else:\n",
    "    # Init new\n",
    "    all_variables = tf.all_variables()\n",
    "    init = tf.initialize_variables(all_variables)\n",
    "    session.run(init)\n",
    "    \n",
    "    print(\"Initialized new model params.\")\n",
    "    print(\"Train new model ...\")\n",
    "    model.train_model(session, X_train_norm, y_train, X_valid_norm, y_valid)\n",
    "    \n",
    "    save_time = time.strftime(\"%Y%m%d%H%M\")\n",
    "    saved_path = saver.save(session, \"model_params_%s.ckpt\" % save_time)\n",
    "    print(\"Model params saved to \", saved_path)\n",
    "\n",
    "\n",
    "\n",
    "\n",
    "print(\"Checking test accuracy:\")\n",
    "accuracy = model.eval_accuracy(session, X_test_norm, y_test)\n",
    "print(\"Test Accuracy = %.4f\" % accuracy)\n",
    "\n",
    "# print(\"Checking valid accuracy:\")\n",
    "# accuracy = model.eval_accuracy(session, X_valid_norm, y_valid)\n",
    "# print(\"Valid accuracy = %.4f\" % accuracy)\n",
    "\n",
    "\n",
    "\n",
    "#     predictions = model.eval_predictions(session, X_test_gray)\n",
    "#     print(\"Predictions.shape =\", predictions.shape)\n",
    "#     accuracy = np.sum(np.argmax(predictions, axis=1) == y_test) / len(predictions)\n",
    "#     print(\"Accuracy = %.3f\" % accuracy)\n",
    "\n",
    "#     print(\"Predictions =\", np.argmax(predictions, axis=1))\n",
    "\n",
    "    \n",
    "\"\"\"\n",
    "    feed_dict = {\n",
    "        model.input_placeholder: X_train_gray[0:model.batch_size],\n",
    "        model.labels_placeholder: y_train[0:model.batch_size]\n",
    "    }\n",
    "    \n",
    "    _, loss, prediction = session.run([model.train_op, model.loss, model.prediction], feed_dict=feed_dict)\n",
    "    \n",
    "    print(loss)\n",
    "    print(prediction)\n",
    "\"\"\""
   ]
  },
  {
   "cell_type": "code",
   "execution_count": 20,
   "metadata": {
    "collapsed": false
   },
   "outputs": [
    {
     "name": "stdout",
     "output_type": "stream",
     "text": [
      "Checking test accuracy:\n",
      "size = 10368\n",
      "sum_ones = 10281  of len = 10368\n",
      "Test Accuracy = 0.9916\n",
      "Checking valid accuracy:\n",
      "size = 10368\n",
      "sum_ones = 10286  of len = 10368\n",
      "Valid Accuracy = 0.9921\n",
      "Checking train accuracy:\n",
      "size = 31103\n",
      "sum_ones = 30943  of len = 31103\n",
      "Train Accuracy = 0.9949\n"
     ]
    }
   ],
   "source": [
    "# t = X_train[0:1]\n",
    "# feed_dict = {\n",
    "#     model.input_placeholder: t,\n",
    "#     model.dropout_placeholder: 1.0\n",
    "# }\n",
    "# pred = session.run([model.prediction], feed_dict=feed_dict)\n",
    "# print(\"pred =\", pred)\n",
    "# print(\"pred1 =\", pred1)\n",
    "# print(\"pred max =\", np.argmax(pred1))\n",
    "# print(\"len(X_train =\", len(X_train))\n",
    "# print(\"len(X_valid) =\", len(X_valid))\n",
    "# print(\"len(X_test) =\", len(X_test))\n",
    "\n",
    "# accuracy = model.eval_accuracy(session, X_train[0:1], y_train[0:1])\n",
    "# print(\"Accuracy = %.3f\" % accuracy)\n",
    "\n",
    "# plt.imshow(t[0])\n",
    "\n",
    "\n",
    "# Test Accuracies\n",
    "print(\"Checking test accuracy:\")\n",
    "accuracy = model.eval_accuracy(session, X_test_norm, y_test)\n",
    "print(\"Test Accuracy = %.4f\" % accuracy)\n",
    "\n",
    "print(\"Checking valid accuracy:\")\n",
    "accuracy = model.eval_accuracy(session, X_valid_norm, y_valid)\n",
    "print(\"Valid Accuracy = %.4f\" % accuracy)\n",
    "\n",
    "print(\"Checking train accuracy:\")\n",
    "accuracy = model.eval_accuracy(session, X_train_norm, y_train)\n",
    "print(\"Train Accuracy = %.4f\" % accuracy)\n",
    "\n",
    "# Save Params to File\n",
    "# saver = tf.train.Saver(write_version=1)\n",
    "# save_time = time.strftime(\"%Y%m%d%H%M\")\n",
    "# saved_path = saver.save(session, \"model_params_%s.ckpt\" % save_time)\n",
    "# print(\"Model params saved to \", saved_path)\n",
    "\n"
   ]
  },
  {
   "cell_type": "code",
   "execution_count": 14,
   "metadata": {
    "collapsed": false
   },
   "outputs": [],
   "source": [
    "# Model Creation\n",
    "# a = [x for x in range(0, 50, 15)]\n",
    "# l = np.arange(4)\n",
    "# b = range(4)\n",
    "# print(a)\n",
    "# plt.plot(l, b, \"\", l*2, b)\n",
    "# plt.title(\"Loss 1\")\n",
    "\n",
    "# plt.plot([1,2,3,4], range(4))\n",
    "# plt.title(\"Loss 2\")\n",
    "\n",
    "# a = np.arange(9).reshape([3,3])\n",
    "# l = [2,1,1]\n",
    "# b = [2, 0, 0]\n",
    "# print(a[:, b])"
   ]
  },
  {
   "cell_type": "markdown",
   "metadata": {},
   "source": [
    "### Question 3\n",
    "\n",
    "_What does your final architecture look like? (Type of model, layers, sizes, connectivity, etc.)  For reference on how to build a deep neural network using TensorFlow, see [Deep Neural Network in TensorFlow\n",
    "](https://classroom.udacity.com/nanodegrees/nd013/parts/fbf77062-5703-404e-b60c-95b78b2f3f9e/modules/6df7ae49-c61c-4bb2-a23e-6527e69209ec/lessons/b516a270-8600-4f93-a0a3-20dfeabe5da6/concepts/83a3a2a2-a9bd-4b7b-95b0-eb924ab14432) from the classroom._\n"
   ]
  },
  {
   "cell_type": "markdown",
   "metadata": {},
   "source": [
    "**Answer:**"
   ]
  },
  {
   "cell_type": "code",
   "execution_count": 15,
   "metadata": {
    "collapsed": true
   },
   "outputs": [],
   "source": [
    "### Train your model here.\n",
    "### Feel free to use as many code cells as needed."
   ]
  },
  {
   "cell_type": "code",
   "execution_count": null,
   "metadata": {
    "collapsed": true
   },
   "outputs": [],
   "source": [
    "# Confusion Matrix Evaluation\n",
    "\n",
    "labels = np.array([0,2,3,5,3,2,2,3,2,1,4,3,2,1,0,0,1])\n",
    "pred   = np.array([0,3,3,5,3,2,2,1,2,1,3,3,2,1,0,2,1])\n",
    "num_classes = 6\n",
    "\n",
    "def confusion_matrix(labels, pred, num_classes):\n",
    "    cm = np.zeros([num_classes, num_classes])\n",
    "    for l,p in zip(labels, pred):\n",
    "        cm[l,p] += 1\n",
    "    s = np.sum(cm, axis=1)\n",
    "    r = cm / s.reshape([len(s),1])\n",
    "    return r\n",
    "    \n",
    "cm = confusion_matrix(labels, pred, num_classes)    \n",
    "\n",
    "# Borrowed from http://scikit-learn.org/stable/auto_examples/model_selection/plot_confusion_matrix.html#sphx-glr-auto-examples-model-selection-plot-confusion-matrix-py\n",
    "def plot_confusion_matrix(cm, classes,\n",
    "                          normalize=True,\n",
    "                          title='Confusion matrix',\n",
    "                          cmap=plt.cm.Blues):\n",
    "    \"\"\"\n",
    "    This function prints and plots the confusion matrix.\n",
    "    Normalization can be applied by setting `normalize=True`.\n",
    "    \"\"\"    \n",
    "\n",
    "    if normalize:\n",
    "        cm = cm.astype('float') / cm.sum(axis=1)[:, np.newaxis]\n",
    "        \n",
    "    plt.imshow(cm, interpolation='nearest', cmap=cmap)\n",
    "    plt.title(title)\n",
    "    plt.colorbar()\n",
    "    tick_marks = np.arange(len(classes))\n",
    "    plt.xticks(tick_marks, classes, rotation=45)\n",
    "    plt.yticks(tick_marks, classes)\n",
    "\n",
    "    thresh = cm.max() / 2.\n",
    "    for i, j in itertools.product(range(cm.shape[0]), range(cm.shape[1])):\n",
    "        plt.text(j, i, \"%.2f\" % cm[i, j],\n",
    "                 horizontalalignment=\"center\",\n",
    "                 color=\"white\" if cm[i, j] > thresh else \"black\")\n",
    "\n",
    "    plt.tight_layout()\n",
    "    plt.ylabel('True label')\n",
    "    plt.xlabel('Predicted label')\n",
    "    \n",
    "plt.figure()\n",
    "plot_confusion_matrix(cm, classes=range(num_classes),\n",
    "                      title='Confusion matrix')"
   ]
  },
  {
   "cell_type": "markdown",
   "metadata": {},
   "source": [
    "### Question 4\n",
    "\n",
    "_How did you train your model? (Type of optimizer, batch size, epochs, hyperparameters, etc.)_\n"
   ]
  },
  {
   "cell_type": "markdown",
   "metadata": {},
   "source": [
    "**Answer:**"
   ]
  },
  {
   "cell_type": "markdown",
   "metadata": {},
   "source": [
    "### Question 5\n",
    "\n",
    "\n",
    "_What approach did you take in coming up with a solution to this problem?_"
   ]
  },
  {
   "cell_type": "markdown",
   "metadata": {},
   "source": [
    "**Answer:**"
   ]
  },
  {
   "cell_type": "markdown",
   "metadata": {},
   "source": [
    "---\n",
    "\n",
    "## Step 3: Test a Model on New Images\n",
    "\n",
    "Take several pictures of traffic signs that you find on the web or around you (at least five), and run them through your classifier on your computer to produce example results. The classifier might not recognize some local signs but it could prove interesting nonetheless.\n",
    "\n",
    "You may find `signnames.csv` useful as it contains mappings from the class id (integer) to the actual sign name."
   ]
  },
  {
   "cell_type": "markdown",
   "metadata": {},
   "source": [
    "### Implementation\n",
    "\n",
    "Use the code cell (or multiple code cells, if necessary) to implement the first step of your project. Once you have completed your implementation and are satisfied with the results, be sure to thoroughly answer the questions that follow."
   ]
  },
  {
   "cell_type": "code",
   "execution_count": 16,
   "metadata": {
    "collapsed": true
   },
   "outputs": [],
   "source": [
    "### Load the images and plot them here.\n",
    "### Feel free to use as many code cells as needed."
   ]
  },
  {
   "cell_type": "markdown",
   "metadata": {},
   "source": [
    "### Question 6\n",
    "\n",
    "_Choose five candidate images of traffic signs and provide them in the report. Are there any particular qualities of the image(s) that might make classification difficult? It would be helpful to plot the images in the notebook._\n",
    "\n"
   ]
  },
  {
   "cell_type": "markdown",
   "metadata": {},
   "source": [
    "**Answer:**"
   ]
  },
  {
   "cell_type": "code",
   "execution_count": 17,
   "metadata": {
    "collapsed": true
   },
   "outputs": [],
   "source": [
    "### Run the predictions here.\n",
    "### Feel free to use as many code cells as needed."
   ]
  },
  {
   "cell_type": "markdown",
   "metadata": {},
   "source": [
    "### Question 7\n",
    "\n",
    "_Is your model able to perform equally well on captured pictures or a live camera stream when compared to testing on the dataset?_\n"
   ]
  },
  {
   "cell_type": "markdown",
   "metadata": {},
   "source": [
    "**Answer:**"
   ]
  },
  {
   "cell_type": "code",
   "execution_count": 18,
   "metadata": {
    "collapsed": true
   },
   "outputs": [],
   "source": [
    "### Visualize the softmax probabilities here.\n",
    "### Feel free to use as many code cells as needed."
   ]
  },
  {
   "cell_type": "markdown",
   "metadata": {},
   "source": [
    "### Question 8\n",
    "\n",
    "*Use the model's softmax probabilities to visualize the **certainty** of its predictions, [`tf.nn.top_k`](https://www.tensorflow.org/versions/r0.11/api_docs/python/nn.html#top_k) could prove helpful here. Which predictions is the model certain of? Uncertain? If the model was incorrect in its initial prediction, does the correct prediction appear in the top k? (k should be 5 at most)*\n"
   ]
  },
  {
   "cell_type": "markdown",
   "metadata": {},
   "source": [
    "**Answer:**"
   ]
  },
  {
   "cell_type": "markdown",
   "metadata": {},
   "source": [
    "### Question 9\n",
    "_If necessary, provide documentation for how an interface was built for your model to load and classify newly-acquired images._\n"
   ]
  },
  {
   "cell_type": "markdown",
   "metadata": {},
   "source": [
    "**Answer:**"
   ]
  },
  {
   "cell_type": "markdown",
   "metadata": {},
   "source": [
    "> **Note**: Once you have completed all of the code implementations and successfully answered each question above, you may finalize your work by exporting the iPython Notebook as an HTML document. You can do this by using the menu above and navigating to  \\n\",\n",
    "    \"**File -> Download as -> HTML (.html)**. Include the finished document along with this notebook as your submission."
   ]
  },
  {
   "cell_type": "code",
   "execution_count": null,
   "metadata": {
    "collapsed": true
   },
   "outputs": [],
   "source": []
  }
 ],
 "metadata": {
  "anaconda-cloud": {},
  "kernelspec": {
   "display_name": "Python [default]",
   "language": "python",
   "name": "python3"
  },
  "language_info": {
   "codemirror_mode": {
    "name": "ipython",
    "version": 3
   },
   "file_extension": ".py",
   "mimetype": "text/x-python",
   "name": "python",
   "nbconvert_exporter": "python",
   "pygments_lexer": "ipython3",
   "version": "3.5.2"
  },
  "widgets": {
   "state": {
    "0081908d134d4ec685ca7a3a73cd1925": {
     "views": [
      {
       "cell_index": 19
      }
     ]
    },
    "00ab23791ed64aa6800e5893cff80f37": {
     "views": [
      {
       "cell_index": 20
      }
     ]
    },
    "036ff81fea9c4d499cd380b6707ee29a": {
     "views": [
      {
       "cell_index": 19
      }
     ]
    },
    "0461319cde264e8883df954b0f7087d1": {
     "views": [
      {
       "cell_index": 19
      }
     ]
    },
    "08a64aa8abc94bed8b3e49ad8210f7fd": {
     "views": [
      {
       "cell_index": 20
      }
     ]
    },
    "094fb5a11b774332a8406607ec699048": {
     "views": [
      {
       "cell_index": 20
      }
     ]
    },
    "09ffb9faa5b44b7bae16afd22b614d8c": {
     "views": [
      {
       "cell_index": 19
      }
     ]
    },
    "0a74b790d52548c48f571042630f8f31": {
     "views": [
      {
       "cell_index": 20
      }
     ]
    },
    "0c8935e874d84a7db4b52c73b457f21b": {
     "views": [
      {
       "cell_index": 19
      }
     ]
    },
    "0da68dd17ad244459f38b5ea8799a6e1": {
     "views": [
      {
       "cell_index": 19
      }
     ]
    },
    "1183fafd771948b395102a21af443151": {
     "views": [
      {
       "cell_index": 19
      }
     ]
    },
    "12c51a6d50a843a2b644ab7b339e2180": {
     "views": [
      {
       "cell_index": 19
      }
     ]
    },
    "16a511842404451e83a92b50ef9c3dac": {
     "views": [
      {
       "cell_index": 19
      }
     ]
    },
    "16d5c9098dc0485fa43cef019b007a23": {
     "views": [
      {
       "cell_index": 19
      }
     ]
    },
    "1785110c46c649cd83f5d08ce5673257": {
     "views": [
      {
       "cell_index": 20
      }
     ]
    },
    "185ae5c40df84cc8bb08d836b978327c": {
     "views": [
      {
       "cell_index": 19
      }
     ]
    },
    "1e11a23b7365477c8d3925a7bfff9cbb": {
     "views": [
      {
       "cell_index": 19
      }
     ]
    },
    "1e59b79809b74385908a7168f904840e": {
     "views": [
      {
       "cell_index": 20
      }
     ]
    },
    "1e96977eb19e4eeb9def6e4a8607d6ae": {
     "views": [
      {
       "cell_index": 19
      }
     ]
    },
    "1ecb658fe8c641968f987b4b01045f6e": {
     "views": [
      {
       "cell_index": 19
      }
     ]
    },
    "1f447c7c3a484cacbf9ef2be87a38454": {
     "views": [
      {
       "cell_index": 19
      }
     ]
    },
    "1f7ceb12b069408fa5bb735a911387e5": {
     "views": [
      {
       "cell_index": 19
      }
     ]
    },
    "1faf51461585433c97177e47d5ddfdfa": {
     "views": [
      {
       "cell_index": 19
      }
     ]
    },
    "1fb595affd7344968dbea6b1eba71290": {
     "views": [
      {
       "cell_index": 19
      }
     ]
    },
    "2033ef892f524c77b191f004c4e518b7": {
     "views": [
      {
       "cell_index": 19
      }
     ]
    },
    "204f5c2f15e84413b987f36acba41a01": {
     "views": [
      {
       "cell_index": 19
      }
     ]
    },
    "21732704b5f142ceb3d526734dc7be8d": {
     "views": [
      {
       "cell_index": 19
      }
     ]
    },
    "229b50e864ae47a78f6f6ed92f7a59f2": {
     "views": [
      {
       "cell_index": 19
      }
     ]
    },
    "239a988217234fb09b13fff46ab19afa": {
     "views": [
      {
       "cell_index": 19
      }
     ]
    },
    "263366041b1a4a8f96e9605086c28a6d": {
     "views": [
      {
       "cell_index": 19
      }
     ]
    },
    "2f20138cf0fa4b96aecb52604ed6b1fb": {
     "views": [
      {
       "cell_index": 19
      }
     ]
    },
    "30f4c1bf4b6849178139e8d5e2b538d6": {
     "views": [
      {
       "cell_index": 20
      }
     ]
    },
    "3411e86695694243b81cd873b3ed1ae0": {
     "views": [
      {
       "cell_index": 19
      }
     ]
    },
    "3448a080e1924b2db4408fc0ef38669d": {
     "views": [
      {
       "cell_index": 19
      }
     ]
    },
    "3fefd27e7a354b7d8b8d9255f82e30eb": {
     "views": [
      {
       "cell_index": 19
      }
     ]
    },
    "41b8a68097e34cfc8f78b32a51ae1ae6": {
     "views": [
      {
       "cell_index": 19
      }
     ]
    },
    "41cb9337c23f48999a3d04f5ad7f97fc": {
     "views": [
      {
       "cell_index": 19
      }
     ]
    },
    "435e4e384a10498fb185df11be585c0a": {
     "views": [
      {
       "cell_index": 20
      }
     ]
    },
    "445a319ba9844cc784b848d3172763ca": {
     "views": [
      {
       "cell_index": 19
      }
     ]
    },
    "4a47c876fb6f4feb8235fda248b0e5a2": {
     "views": [
      {
       "cell_index": 19
      }
     ]
    },
    "4dd36a67f49341d98b4f4bcf024b6518": {
     "views": [
      {
       "cell_index": 19
      }
     ]
    },
    "4fc4b78d5a984dc498dff346dea69692": {
     "views": [
      {
       "cell_index": 19
      }
     ]
    },
    "4fe9fed1f46d450b829a056014fbffd9": {
     "views": [
      {
       "cell_index": 19
      }
     ]
    },
    "51e23489470e4e2197a70a263eef373e": {
     "views": [
      {
       "cell_index": 19
      }
     ]
    },
    "52a871486ebf43858f1f15d035960f37": {
     "views": [
      {
       "cell_index": 19
      }
     ]
    },
    "553651d6a1f04b5fa2928b06e33216ef": {
     "views": [
      {
       "cell_index": 19
      }
     ]
    },
    "55cab1e71f9e49248471aa4703954633": {
     "views": [
      {
       "cell_index": 19
      }
     ]
    },
    "5601a326a0d444a0acad2e5d3ebc509d": {
     "views": [
      {
       "cell_index": 20
      }
     ]
    },
    "5853cb777f0344b38f0882f6518693d0": {
     "views": [
      {
       "cell_index": 20
      }
     ]
    },
    "588b98e517804d579723fcc47df89e0d": {
     "views": [
      {
       "cell_index": 20
      }
     ]
    },
    "597db6ce224c484e9e1a6a62e01a4aed": {
     "views": [
      {
       "cell_index": 19
      }
     ]
    },
    "59eaa749b58b44a4b02276e329bd8cc0": {
     "views": [
      {
       "cell_index": 20
      }
     ]
    },
    "5e3c223ef2bd424fa5f6828648dba07c": {
     "views": [
      {
       "cell_index": 19
      }
     ]
    },
    "616471148cbf488ab7cd7100abac2eb4": {
     "views": [
      {
       "cell_index": 19
      }
     ]
    },
    "66441253699c460a8076d3facea90358": {
     "views": [
      {
       "cell_index": 19
      }
     ]
    },
    "67916818f5e841e5ac353b42ed4af17a": {
     "views": [
      {
       "cell_index": 19
      }
     ]
    },
    "6bf895c0fa7c4334880ff7b4f72771a2": {
     "views": [
      {
       "cell_index": 19
      }
     ]
    },
    "70274b7940cc4af88b0f4d33a66f1110": {
     "views": [
      {
       "cell_index": 19
      }
     ]
    },
    "71ac43e809ee41a7ba49684d75e2c1ce": {
     "views": [
      {
       "cell_index": 20
      }
     ]
    },
    "726ee0d4d9064af787e48aee92ea1434": {
     "views": [
      {
       "cell_index": 19
      }
     ]
    },
    "7352011be16c4ad2817c14ab114f4ef8": {
     "views": [
      {
       "cell_index": 20
      }
     ]
    },
    "750dfefed7454275baff1a3d395bfd24": {
     "views": [
      {
       "cell_index": 20
      }
     ]
    },
    "76f2ab504b244e88a5d13c16c16c28c8": {
     "views": [
      {
       "cell_index": 19
      }
     ]
    },
    "780f4d1f8f7845fc87b1c71a351c37bc": {
     "views": [
      {
       "cell_index": 20
      }
     ]
    },
    "7920be2323d848e9916b883d80ab6349": {
     "views": [
      {
       "cell_index": 20
      }
     ]
    },
    "8692b7b7183c41f69c04990309c1bdf1": {
     "views": [
      {
       "cell_index": 19
      }
     ]
    },
    "86c4b931cde54a889326cb9f210ab4d1": {
     "views": [
      {
       "cell_index": 19
      }
     ]
    },
    "8717a557b169482ea0475ec8e33ba324": {
     "views": [
      {
       "cell_index": 19
      }
     ]
    },
    "874cafaf6bdf45789b07bf9c0003f415": {
     "views": [
      {
       "cell_index": 19
      }
     ]
    },
    "88a1c4130a6643518d893039c0120d69": {
     "views": [
      {
       "cell_index": 19
      }
     ]
    },
    "88f77bb4605743c5a94eb56f9fc8edb7": {
     "views": [
      {
       "cell_index": 19
      }
     ]
    },
    "9221604456404198b02bd9ccb09a5ff7": {
     "views": [
      {
       "cell_index": 19
      }
     ]
    },
    "92a05baff96e494fa6eb250f76493d2d": {
     "views": [
      {
       "cell_index": 19
      }
     ]
    },
    "97eab3ad710b4ed6aa5b41667703e2d6": {
     "views": [
      {
       "cell_index": 20
      }
     ]
    },
    "9915baaac5c1418993de9fcf3a3e209b": {
     "views": [
      {
       "cell_index": 19
      }
     ]
    },
    "9955639985104673bd363feb716527ac": {
     "views": [
      {
       "cell_index": 20
      }
     ]
    },
    "9af1923188b6430995745289cbcb0853": {
     "views": [
      {
       "cell_index": 20
      }
     ]
    },
    "9eabe7fa7a924ea8b63842211e864fcb": {
     "views": [
      {
       "cell_index": 19
      }
     ]
    },
    "a43445028a294562a47dd2c6445286ab": {
     "views": [
      {
       "cell_index": 19
      }
     ]
    },
    "a4c6de3063294b1e8cbe6d44ff657f34": {
     "views": [
      {
       "cell_index": 19
      }
     ]
    },
    "a686e8f0066341ae85e3f94f7196216b": {
     "views": [
      {
       "cell_index": 19
      }
     ]
    },
    "a6a4897db0f64d0c8b56061f398fc2be": {
     "views": [
      {
       "cell_index": 20
      }
     ]
    },
    "a85c1733d2674202b123d4bd06420192": {
     "views": [
      {
       "cell_index": 19
      }
     ]
    },
    "a8bbdd71bb8e48b2b5cfe502c32ca7eb": {
     "views": [
      {
       "cell_index": 20
      }
     ]
    },
    "a91fea12401e4e7ea0af3cb25182bf02": {
     "views": [
      {
       "cell_index": 19
      }
     ]
    },
    "a922463f6c1a4ec690de6bee75491241": {
     "views": [
      {
       "cell_index": 19
      }
     ]
    },
    "b0a399713805421b8cb11a840e168d5b": {
     "views": [
      {
       "cell_index": 20
      }
     ]
    },
    "b0de1fa07a92432c996c5bc4c901595f": {
     "views": [
      {
       "cell_index": 19
      }
     ]
    },
    "b1f8e610bd9a4ca295097994cdab6780": {
     "views": [
      {
       "cell_index": 19
      }
     ]
    },
    "b5748188fefa4bd090367d8d9d000556": {
     "views": [
      {
       "cell_index": 19
      }
     ]
    },
    "b5fc19188ecc4ca1a47f49ef25c203dd": {
     "views": [
      {
       "cell_index": 19
      }
     ]
    },
    "b6ff089e2e03410ba6af27c640f4cb5a": {
     "views": [
      {
       "cell_index": 19
      }
     ]
    },
    "b7500b4247324ce0bd7455885a91cad0": {
     "views": [
      {
       "cell_index": 20
      }
     ]
    },
    "b8fd81e5594e4118a6c5ce04effc7e62": {
     "views": [
      {
       "cell_index": 20
      }
     ]
    },
    "b915b5c8913d43b2be29850ba845330b": {
     "views": [
      {
       "cell_index": 19
      }
     ]
    },
    "baaa76b8298649839169057def0cf199": {
     "views": [
      {
       "cell_index": 19
      }
     ]
    },
    "bc94ad5ff54c41a180fc09d996a4cf90": {
     "views": [
      {
       "cell_index": 19
      }
     ]
    },
    "bcb8e9d67443447a8a4c6d91ef9646d0": {
     "views": [
      {
       "cell_index": 19
      }
     ]
    },
    "bde0caf5754041f0870290739a976e45": {
     "views": [
      {
       "cell_index": 19
      }
     ]
    },
    "c19de03cec69410caad3926598aff0cd": {
     "views": [
      {
       "cell_index": 20
      }
     ]
    },
    "c40b3ed64f4a44e59998728e7623d6d7": {
     "views": [
      {
       "cell_index": 19
      }
     ]
    },
    "c4b7ba656cf244e18247e3f03a8f693d": {
     "views": [
      {
       "cell_index": 19
      }
     ]
    },
    "c4b8fad9d07b4a118724c176b09f57ea": {
     "views": [
      {
       "cell_index": 19
      }
     ]
    },
    "c4dca4e35bad4b64b6268de9f0540f6c": {
     "views": [
      {
       "cell_index": 19
      }
     ]
    },
    "c828b423936944e0b7d2244d47992a16": {
     "views": [
      {
       "cell_index": 19
      }
     ]
    },
    "c8dfe671c15c42f681b345a836ff54f2": {
     "views": [
      {
       "cell_index": 19
      }
     ]
    },
    "c9a3aab809174a92994f73effce1a3b3": {
     "views": [
      {
       "cell_index": 19
      }
     ]
    },
    "ca4a23fca0a34af4a3639e50404b97bd": {
     "views": [
      {
       "cell_index": 19
      }
     ]
    },
    "d02e9c01568d4d52b285d9badcb819c7": {
     "views": [
      {
       "cell_index": 19
      }
     ]
    },
    "d07160f8ddf64a929b755ede441db481": {
     "views": [
      {
       "cell_index": 20
      }
     ]
    },
    "d09495a1820e46ac98e0cd54dca8809d": {
     "views": [
      {
       "cell_index": 19
      }
     ]
    },
    "d2380d1455254306b9654827233e34d3": {
     "views": [
      {
       "cell_index": 19
      }
     ]
    },
    "d3fac17599b140b484fe24a818876e3a": {
     "views": [
      {
       "cell_index": 19
      }
     ]
    },
    "d63e2d0f1e7f4f2596348e66b8e7cbe7": {
     "views": [
      {
       "cell_index": 19
      }
     ]
    },
    "d8aca654fc6f4e6a87b708c0cd1297a7": {
     "views": [
      {
       "cell_index": 19
      }
     ]
    },
    "dda41099d2f04ff89c30c9ade7292796": {
     "views": [
      {
       "cell_index": 20
      }
     ]
    },
    "ddb7f090d0244c2a8eefedeb121fa35a": {
     "views": [
      {
       "cell_index": 19
      }
     ]
    },
    "de0662bada7044ad9667ef81a6ca94d2": {
     "views": [
      {
       "cell_index": 19
      }
     ]
    },
    "e18413345bdd4e38975eeb8a097a8ba5": {
     "views": [
      {
       "cell_index": 19
      }
     ]
    },
    "e2a78dc896b34521a0ad32e0a5a5dc55": {
     "views": [
      {
       "cell_index": 20
      }
     ]
    },
    "e740a249ba1b4db0b7ff1e8b49927991": {
     "views": [
      {
       "cell_index": 19
      }
     ]
    },
    "e9de11ce858446fd83fa1f853a9850a8": {
     "views": [
      {
       "cell_index": 20
      }
     ]
    },
    "eaa18d3230a84672a44d19c382436d0b": {
     "views": [
      {
       "cell_index": 19
      }
     ]
    },
    "eb889ebbe43c471c958c76f136abfb6a": {
     "views": [
      {
       "cell_index": 19
      }
     ]
    },
    "eb971fc8b8e245ab888f1c5e2dac1c4c": {
     "views": [
      {
       "cell_index": 19
      }
     ]
    },
    "ee59cbef1a7a4c35abb57e2be8891cda": {
     "views": [
      {
       "cell_index": 19
      }
     ]
    },
    "ef3850b13fe74c88acea9bed01a23249": {
     "views": [
      {
       "cell_index": 19
      }
     ]
    },
    "ef71d7736f4643458881f1bfc79d59e5": {
     "views": [
      {
       "cell_index": 19
      }
     ]
    },
    "f308e7169f1740349f942b7dae854079": {
     "views": [
      {
       "cell_index": 20
      }
     ]
    },
    "f5d722dfd5db4d9497e3e71e0c32c358": {
     "views": [
      {
       "cell_index": 20
      }
     ]
    },
    "f627744f0b874274a39df4d83cd9203d": {
     "views": [
      {
       "cell_index": 20
      }
     ]
    },
    "fae0e75bd30d4f95a49f06327ff61f8b": {
     "views": [
      {
       "cell_index": 20
      }
     ]
    }
   },
   "version": "1.2.0"
  }
 },
 "nbformat": 4,
 "nbformat_minor": 1
}
